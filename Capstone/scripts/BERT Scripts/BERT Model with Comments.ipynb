{
 "cells": [
  {
   "cell_type": "markdown",
   "id": "23a9186d-f410-45fc-8a8e-471950289dfb",
   "metadata": {},
   "source": [
    "# Implementing BERT"
   ]
  },
  {
   "cell_type": "markdown",
   "id": "7b17e2cb-861e-40af-a32e-2acb3b546aee",
   "metadata": {},
   "source": [
    "## 1. Loading Libraries"
   ]
  },
  {
   "cell_type": "code",
   "execution_count": 1,
   "id": "380d1c17-1591-4e2a-80e7-b0c461e69707",
   "metadata": {
    "colab": {
     "base_uri": "https://localhost:8080/",
     "height": 35
    },
    "id": "380d1c17-1591-4e2a-80e7-b0c461e69707",
    "outputId": "3c1a191f-fa04-4c3b-8769-6d2da49f04bc"
   },
   "outputs": [],
   "source": [
    "import numpy as np \n",
    "import pandas as pd \n",
    "import os\n",
    "import matplotlib.pyplot as plt\n",
    "import seaborn as sns\n",
    "import re\n",
    "import string\n",
    "from sklearn.model_selection import train_test_split\n",
    "\n",
    "\n",
    "\n",
    "\n",
    "# os.chdir('c:\\\\Users\\\\Owner\\\\Desktop\\\\Sem4\\\\Capstone\\\\Project\\\\')\n",
    "# os.getcwd()"
   ]
  },
  {
   "cell_type": "markdown",
   "id": "451a71da-7326-48f1-b5dc-73d51c194e18",
   "metadata": {},
   "source": [
    "## 2. Setting up GPU (in case of GoogleColab)"
   ]
  },
  {
   "cell_type": "code",
   "execution_count": 2,
   "id": "62011c92-51a7-4b77-9113-0500f437e41d",
   "metadata": {
    "colab": {
     "base_uri": "https://localhost:8080/"
    },
    "id": "62011c92-51a7-4b77-9113-0500f437e41d",
    "outputId": "647d7b53-4f73-4bbf-da8b-a53f2b65eb57"
   },
   "outputs": [
    {
     "name": "stdout",
     "output_type": "stream",
     "text": [
      "No GPU available, using the CPU instead.\n"
     ]
    }
   ],
   "source": [
    "import torch\n",
    "\n",
    "if torch.cuda.is_available():       \n",
    "    device = torch.device(\"cuda\")\n",
    "    print(f'There are {torch.cuda.device_count()} GPU(s) available.')\n",
    "    print('Device name:', torch.cuda.get_device_name(0))\n",
    "\n",
    "else:\n",
    "    print('No GPU available, using the CPU instead.')\n",
    "    device = torch.device(\"cpu\")\n"
   ]
  },
  {
   "cell_type": "markdown",
   "id": "0a6bd9d0-b5b5-4b7a-b0ff-fde902918634",
   "metadata": {},
   "source": [
    "## 3. Dataset"
   ]
  },
  {
   "cell_type": "markdown",
   "id": "9c360d34-e268-4ee5-bab9-6d397b00ff06",
   "metadata": {},
   "source": [
    "## 3.1. Training data "
   ]
  },
  {
   "cell_type": "markdown",
   "id": "f695c824-aab2-465f-b97b-1e99af51fb2f",
   "metadata": {},
   "source": [
    "Loading the file that was created in the notebook *Training Data.ipynb*. We have columns *Tweet ID*, *Text* and *label*.\n",
    "\n",
    "Training data is already pre-processed i.e. minimum cleaned"
   ]
  },
  {
   "cell_type": "code",
   "execution_count": null,
   "id": "448b61f2",
   "metadata": {},
   "outputs": [],
   "source": []
  },
  {
   "cell_type": "code",
   "execution_count": 3,
   "id": "07019c68-dd19-46c3-84eb-faeb92bf3edb",
   "metadata": {
    "colab": {
     "base_uri": "https://localhost:8080/"
    },
    "id": "07019c68-dd19-46c3-84eb-faeb92bf3edb",
    "outputId": "51e62fa1-a012-4088-da7e-57ba1d1a59cd"
   },
   "outputs": [
    {
     "name": "stdout",
     "output_type": "stream",
     "text": [
      "<class 'pandas.core.frame.DataFrame'>\n",
      "RangeIndex: 3831 entries, 0 to 3830\n",
      "Data columns (total 2 columns):\n",
      " #   Column  Non-Null Count  Dtype \n",
      "---  ------  --------------  ----- \n",
      " 0   Text    3831 non-null   object\n",
      " 1   label   3831 non-null   int64 \n",
      "dtypes: int64(1), object(1)\n",
      "memory usage: 60.0+ KB\n"
     ]
    }
   ],
   "source": [
    "ann_tweets = pd.read_csv(\"/Users/nikhiljoshi/Capstone Project/ML Models/minimum_cleaned_balanced training data.csv\")\n",
    "ann_tweets.info()"
   ]
  },
  {
   "cell_type": "code",
   "execution_count": 4,
   "id": "0fbca5ae-d08a-4100-bc06-57681dfa4193",
   "metadata": {},
   "outputs": [
    {
     "data": {
      "text/plain": [
       "0       0\n",
       "1       0\n",
       "2       0\n",
       "3       1\n",
       "4       0\n",
       "       ..\n",
       "3826    2\n",
       "3827    2\n",
       "3828    2\n",
       "3829    2\n",
       "3830    2\n",
       "Name: label, Length: 3831, dtype: int64"
      ]
     },
     "execution_count": 4,
     "metadata": {},
     "output_type": "execute_result"
    }
   ],
   "source": [
    "ann_tweets.label"
   ]
  },
  {
   "cell_type": "code",
   "execution_count": 5,
   "id": "0433d7d6-de2f-4ece-b7ba-de2eb40dc17a",
   "metadata": {
    "colab": {
     "base_uri": "https://localhost:8080/"
    },
    "id": "0433d7d6-de2f-4ece-b7ba-de2eb40dc17a",
    "outputId": "87e2e241-9110-4ea9-86d6-f49a2f5af4ab"
   },
   "outputs": [
    {
     "data": {
      "text/plain": [
       "0       are we still allowed to quote ancient chinese ...\n",
       "1        more power to you! this chinese virus thing h...\n",
       "2       cnbc: who, tedros reiterated that the virus co...\n",
       "3       \"the heightened racism experienced by asian co...\n",
       "4       coronavirus and nepali in china: kp oli has di...\n",
       "                              ...                        \n",
       "3826    sea shepherd suppoers are racist! antiracism s...\n",
       "3827     no it does not, germans, even fascists rape t...\n",
       "3828    \"nigger?\" lifelessons of white kid growing up ...\n",
       "3829     you do not have the balls to hashtag me as a ...\n",
       "3830     kevin macdonald: ethnocentrism is normal and ...\n",
       "Name: Text, Length: 3831, dtype: object"
      ]
     },
     "execution_count": 5,
     "metadata": {},
     "output_type": "execute_result"
    }
   ],
   "source": [
    "ann_tweets.Text"
   ]
  },
  {
   "cell_type": "code",
   "execution_count": 6,
   "id": "14fbc230-5dde-4c3f-be5a-54c3a93c92ac",
   "metadata": {
    "colab": {
     "base_uri": "https://localhost:8080/"
    },
    "id": "14fbc230-5dde-4c3f-be5a-54c3a93c92ac",
    "outputId": "91f909e7-3a88-460c-b133-75c748262cff"
   },
   "outputs": [
    {
     "data": {
      "text/plain": [
       "array([   0,    1,    2, ..., 3828, 3829, 3830])"
      ]
     },
     "execution_count": 6,
     "metadata": {},
     "output_type": "execute_result"
    }
   ],
   "source": [
    "ann_tweets.index.values"
   ]
  },
  {
   "cell_type": "code",
   "execution_count": 7,
   "id": "f4267579-12cd-4ab2-ab0e-0dc4a2aebfd1",
   "metadata": {
    "colab": {
     "base_uri": "https://localhost:8080/"
    },
    "id": "f4267579-12cd-4ab2-ab0e-0dc4a2aebfd1",
    "outputId": "92d35b53-b65f-4306-d82f-ea75f7d72b1b"
   },
   "outputs": [
    {
     "data": {
      "text/plain": [
       "array([0, 0, 0, ..., 2, 2, 2])"
      ]
     },
     "execution_count": 7,
     "metadata": {},
     "output_type": "execute_result"
    }
   ],
   "source": [
    "ann_tweets.label.values"
   ]
  },
  {
   "cell_type": "markdown",
   "id": "1e0aea8f-1ef8-4ce3-8241-9f7c9ed3b65d",
   "metadata": {},
   "source": [
    "## 3.2. Split training data"
   ]
  },
  {
   "cell_type": "markdown",
   "id": "5c0e4e94-12dc-44ce-88cd-ea64fb89815e",
   "metadata": {},
   "source": [
    "We will randomly split the training data into two sets with a ratio of **85:15**. A train set with 85% data and a validation set with 15% data. We will perform hyperparameter tuning using cross-validation on the train set and evaluate the performance on the remaining 15%.\n",
    "\n",
    "We are also using stratify to split it in a way that preserves the same proportions of instances in each label."
   ]
  },
  {
   "cell_type": "markdown",
   "id": "bc50edcf-820f-4a35-90a4-7125e23ad38e",
   "metadata": {
    "id": "bc50edcf-820f-4a35-90a4-7125e23ad38e"
   },
   "source": [
    "## Fine tuning BERT with minimum cleaned tweets"
   ]
  },
  {
   "cell_type": "code",
   "execution_count": 8,
   "id": "f539b2bb-59d7-4f43-b62d-ec3f40ad2a6c",
   "metadata": {
    "id": "f539b2bb-59d7-4f43-b62d-ec3f40ad2a6c"
   },
   "outputs": [],
   "source": [
    "#train test split\n",
    "X=ann_tweets.Text.values\n",
    "y=ann_tweets.label.values\n",
    "X_train, X_val, y_train, y_val = train_test_split(X, y,\n",
    "                                                   test_size = 0.15,\n",
    "                                                   random_state = 17,\n",
    "                                                   stratify = ann_tweets.label.values)"
   ]
  },
  {
   "cell_type": "markdown",
   "id": "30476c6e-ba40-46fe-b196-785d66772339",
   "metadata": {},
   "source": [
    "## 3.3. Max Tweet Length"
   ]
  },
  {
   "cell_type": "code",
   "execution_count": 9,
   "id": "9a5209cf-16be-44bd-9212-ffb93a3a50e5",
   "metadata": {
    "colab": {
     "base_uri": "https://localhost:8080/"
    },
    "id": "9a5209cf-16be-44bd-9212-ffb93a3a50e5",
    "outputId": "607a0ac5-d17b-4b11-c9a0-d6e43025fd44"
   },
   "outputs": [
    {
     "name": "stdout",
     "output_type": "stream",
     "text": [
      "Max length:  291\n"
     ]
    }
   ],
   "source": [
    "max_len = max([len(sent) for sent in ann_tweets.Text])\n",
    "print('Max length: ', max_len)"
   ]
  },
  {
   "cell_type": "markdown",
   "id": "6ea6ad9f-6a15-448c-ae96-5d88bb44586d",
   "metadata": {},
   "source": [
    "## 4. Fine tuning BERT with minimum cleaned tweets"
   ]
  },
  {
   "cell_type": "markdown",
   "id": "8af7f707-cb7c-4a28-a9d0-5b7f6e796544",
   "metadata": {},
   "source": [
    "### 4.1. Install HuggingFace Library"
   ]
  },
  {
   "cell_type": "markdown",
   "id": "1e38dbf8-34fd-4b13-adc2-04c54ecf1259",
   "metadata": {},
   "source": [
    "The transformer library of Hugging Face contains PyTorch implementation of NLP models like BERT."
   ]
  },
  {
   "cell_type": "code",
   "execution_count": 10,
   "id": "bb6a8932-18b2-4164-aa78-4d2497ae1d16",
   "metadata": {},
   "outputs": [],
   "source": [
    "#!pip install transformers"
   ]
  },
  {
   "cell_type": "markdown",
   "id": "1772eba0-02d2-46df-b7b8-99a605b97925",
   "metadata": {},
   "source": [
    "We are using 'bert-base-uncased' for this project. uncased means it will not make a difference between **english** and **English**.\n",
    "### 4.2. BERT Tokenizer\n",
    "Since the training data is already partially preprocessed, we can directly tokenize our text using Berttokenizer provided by the library."
   ]
  },
  {
   "cell_type": "markdown",
   "id": "daeefece-354e-4cd7-aad4-7a94099b3dce",
   "metadata": {},
   "source": [
    "We are using 'bert-base-uncased' for this project. uncased means it will not make a difference between **english** and **English**. "
   ]
  },
  {
   "cell_type": "code",
   "execution_count": 11,
   "id": "ff7a1d4a-a952-4900-9323-5e7b222c0c38",
   "metadata": {
    "colab": {
     "base_uri": "https://localhost:8080/",
     "height": 113,
     "referenced_widgets": [
      "45cb6b02198f46ba96d621f6faff6ef0",
      "279d4243c77143259b5c0313bca14d35",
      "1a62ba57a37b47d5a70730ba86a7ce96",
      "336a4c636daa4637b6cfe98286f9c872",
      "fd0d7a4f73f140c9a51cd97b48f9b581",
      "1236fc16a29d4d658589b821165afa87",
      "ca89066e4fbd42e1bc13fe77dcbbbbdd",
      "e5cfe9b6699c48e7a65620038a1e7b19",
      "8a904b29337a4524a0648b38ac0ecf67",
      "36a7dcd070b14db8bb8c4f63602c8d81",
      "5db7e0b416304a3085854a725277384b",
      "64a3f6569d624460aabbc41c50bada7d",
      "82c4e2d18ab443a3938753375ba4b503",
      "af4fadc82bdc4dcb804427c1f7d721ab",
      "2fca2af539ef4ea2a1748ab70e765f2b",
      "4e128c78f66e4f1b95510e69980595e6",
      "bf34fc6bfae44a6890066db9b30dc74a",
      "b29bdc5fc745406794ac84b6614e6fdd",
      "3926badb1de349a0b57767738c89b27e",
      "1381474ddd6b4e7bbb301134deec5fc8",
      "a11003ba19b04f359d09b52c435cc7e4",
      "efc9116e42904aab976b88307793d23b",
      "0e01cf920d204460bdc3505e5b95ed4d",
      "6296180de6e949b9a1a4ac04acea1954",
      "b99cb564a1dd487db01b6a5b022f543b",
      "065d7050164047a4b3cb1b297b4e839e",
      "adbc3ea0a2f64fa98f4e69f54e3273fe",
      "114e304ed8f346eba6ef4e6ba0c70de4",
      "2bf049aeeff94de48476dec39fd0d40d",
      "faa1c636bc25443895dd08dd25fad334",
      "827c309799fa4a79afb1623e87a73d96",
      "0722f653064d4e1fa04051b3638c1477",
      "f1d6ff71e3344739a0cb3b4bf4563714"
     ]
    },
    "id": "ff7a1d4a-a952-4900-9323-5e7b222c0c38",
    "outputId": "3ab552a6-c7e1-4ac7-c12a-66d433196b13"
   },
   "outputs": [],
   "source": [
    "from transformers import BertTokenizer\n",
    "tokenizer = BertTokenizer.from_pretrained('bert-base-uncased',\n",
    "                                         do_lower_case = True)"
   ]
  },
  {
   "cell_type": "markdown",
   "id": "fbe00148-7399-43c7-9fc0-0d072f6e62b7",
   "metadata": {},
   "source": [
    "The encode_plus method of BERT tokenizer will:\n",
    "\n",
    "- split our text into tokens,\n",
    "\n",
    "- add the special [CLS] and [SEP] tokens, [SEP] token helps the model to understand the end of one input and the start of another input in the same sequence input. [CLS] is a special classification token (CLS stands for classification) what lets BERT know that we are doing a classification problem.\n",
    "\n",
    "- convert these tokens into indexes of the tokenizer vocabulary,\n",
    "\n",
    "- pad or truncate sentences to max length, and\n",
    "\n",
    "- create attention mask."
   ]
  },
  {
   "cell_type": "code",
   "execution_count": 12,
   "id": "3e91ff48-4d49-4b2e-988a-d3fa73d7c124",
   "metadata": {
    "id": "3e91ff48-4d49-4b2e-988a-d3fa73d7c124"
   },
   "outputs": [],
   "source": [
    "def tokenize_text(data,MAX_LEN) :\n",
    "    input_ids = []\n",
    "    attention_mask = []\n",
    "    for i in range(len(data)):\n",
    "        encoded = tokenizer.encode_plus(\n",
    "            data[i],\n",
    "            add_special_tokens=True,\n",
    "            max_length=MAX_LEN,\n",
    "            padding='max_length',\n",
    "            return_attention_mask=True\n",
    "        )\n",
    "        input_ids.append(encoded.get('input_ids'))\n",
    "        attention_mask.append(encoded.get('attention_mask'))\n",
    "\n",
    "    input_ids = torch.tensor(input_ids)\n",
    "    attention_masks = torch.tensor(attention_mask)\n",
    "    return input_ids, attention_masks"
   ]
  },
  {
   "cell_type": "markdown",
   "id": "a51a8b37-2ff0-465d-b62d-e948bfe77167",
   "metadata": {},
   "source": [
    "### 4.3. Maximum Token Length"
   ]
  },
  {
   "cell_type": "code",
   "execution_count": 13,
   "id": "48a21ba2-941e-4a80-a9bd-d0440f90cb00",
   "metadata": {
    "colab": {
     "base_uri": "https://localhost:8080/"
    },
    "id": "48a21ba2-941e-4a80-a9bd-d0440f90cb00",
    "outputId": "9c2290d0-548d-4dd4-91b3-52653d652ea0"
   },
   "outputs": [
    {
     "name": "stdout",
     "output_type": "stream",
     "text": [
      "Max length:  129\n"
     ]
    }
   ],
   "source": [
    "encoded_tweets = [tokenizer.encode(sent, add_special_tokens=True) for sent in ann_tweets.Text]\n",
    "\n",
    "# Find the maximum length\n",
    "max_len = max([len(sent) for sent in encoded_tweets])\n",
    "print('Max length: ', max_len)"
   ]
  },
  {
   "cell_type": "code",
   "execution_count": 14,
   "id": "054eced2-4d7b-4fdd-979f-ec449dfe9c2a",
   "metadata": {
    "colab": {
     "base_uri": "https://localhost:8080/"
    },
    "id": "054eced2-4d7b-4fdd-979f-ec449dfe9c2a",
    "outputId": "fbdf8710-36fe-4444-e566-c5ce55b91932"
   },
   "outputs": [
    {
     "name": "stdout",
     "output_type": "stream",
     "text": [
      "Original:  are we still allowed to quote ancient chinese proverbs, or is that racist? racismisavirus\n",
      "Token IDs:  tensor([[ 101, 1037,  102,  ...,    0,    0,    0],\n",
      "        [ 101, 1054,  102,  ...,    0,    0,    0],\n",
      "        [ 101, 1041,  102,  ...,    0,    0,    0],\n",
      "        ...,\n",
      "        [ 101, 1054,  102,  ...,    0,    0,    0],\n",
      "        [ 101, 1057,  102,  ...,    0,    0,    0],\n",
      "        [ 101, 1055,  102,  ...,    0,    0,    0]])\n"
     ]
    }
   ],
   "source": [
    "MAX_LEN = max_len\n",
    "\n",
    "# Print sentence 0 and its encoded token ids\n",
    "token_ids,masks = tokenize_text(ann_tweets.Text[0],MAX_LEN)\n",
    "print('Original: ', ann_tweets.Text[0])\n",
    "print('Token IDs: ', token_ids)\n",
    "\n"
   ]
  },
  {
   "cell_type": "code",
   "execution_count": 15,
   "id": "26e7f22c-e1a6-4134-bd39-5ca5d0ffbcef",
   "metadata": {
    "colab": {
     "base_uri": "https://localhost:8080/"
    },
    "id": "26e7f22c-e1a6-4134-bd39-5ca5d0ffbcef",
    "outputId": "40d00cc7-1a6e-49e7-f3f5-ca5b95671047"
   },
   "outputs": [
    {
     "name": "stdout",
     "output_type": "stream",
     "text": [
      "Tokenizing data...\n"
     ]
    }
   ],
   "source": [
    "# Run function `preprocessing_for_bert` on the train set and the validation set\n",
    "print('Tokenizing data...')\n",
    "train_inputs, train_masks = tokenize_text(X_train,MAX_LEN)\n",
    "val_inputs, val_masks = tokenize_text(X_val,MAX_LEN)"
   ]
  },
  {
   "cell_type": "markdown",
   "id": "39117536-02e6-4394-914e-b2c3135df6e6",
   "metadata": {},
   "source": [
    "### 4.4. Tensors & DataLoaders"
   ]
  },
  {
   "cell_type": "markdown",
   "id": "0a1b9fe9-b411-4dad-8d9d-73d95342d647",
   "metadata": {},
   "source": [
    "Creating an iterator for each of our dataset i.e train and validation using the Pytorch DataLoader class. "
   ]
  },
  {
   "cell_type": "code",
   "execution_count": 16,
   "id": "66fabced-75d8-450d-a46b-8f70ea4990d1",
   "metadata": {
    "id": "66fabced-75d8-450d-a46b-8f70ea4990d1"
   },
   "outputs": [],
   "source": [
    "from torch.utils.data import TensorDataset, DataLoader, RandomSampler, SequentialSampler\n",
    "\n",
    "train_labels = torch.tensor(y_train)\n",
    "val_labels = torch.tensor(y_val)\n",
    "\n",
    "# For fine-tuning BERT, batch size of 16 or 32 is recommended.\n",
    "batch_size = 32\n"
   ]
  },
  {
   "cell_type": "code",
   "execution_count": 17,
   "id": "cWsbn5tbYdGU",
   "metadata": {
    "colab": {
     "base_uri": "https://localhost:8080/"
    },
    "id": "cWsbn5tbYdGU",
    "outputId": "0a53f419-4be3-4602-b57e-b1487b348911"
   },
   "outputs": [
    {
     "data": {
      "text/plain": [
       "tensor([1, 1, 0,  ..., 2, 1, 2])"
      ]
     },
     "execution_count": 17,
     "metadata": {},
     "output_type": "execute_result"
    }
   ],
   "source": [
    "train_labels"
   ]
  },
  {
   "cell_type": "code",
   "execution_count": 18,
   "id": "9FyjInQRJ0u2",
   "metadata": {
    "id": "9FyjInQRJ0u2"
   },
   "outputs": [],
   "source": [
    "# Create the DataLoader for our training set\n",
    "train_data = TensorDataset(train_inputs, train_masks, train_labels)\n",
    "train_sampler = RandomSampler(train_data)\n",
    "train_dataloader = DataLoader(train_data, sampler=train_sampler, batch_size=batch_size)\n",
    "\n",
    "# Create the DataLoader for our validation set\n",
    "val_data = TensorDataset(val_inputs, val_masks, val_labels)\n",
    "val_sampler = SequentialSampler(val_data)\n",
    "val_dataloader = DataLoader(val_data, sampler=val_sampler, batch_size=batch_size)"
   ]
  },
  {
   "cell_type": "code",
   "execution_count": 19,
   "id": "XiD5UoIcZdXV",
   "metadata": {
    "id": "XiD5UoIcZdXV"
   },
   "outputs": [],
   "source": [
    "temp=len(ann_tweets.label.unique())\n",
    "label_dict={0:'neutral',2:'negative',1:'positive'}\n"
   ]
  },
  {
   "cell_type": "markdown",
   "id": "1aea206c-b99e-4b00-80dc-be225f0615d3",
   "metadata": {},
   "source": [
    "### 4.5. Set up BERT Pre-trained Model"
   ]
  },
  {
   "cell_type": "code",
   "execution_count": 20,
   "id": "731tO53SZda8",
   "metadata": {
    "colab": {
     "base_uri": "https://localhost:8080/",
     "height": 156,
     "referenced_widgets": [
      "bb5f8a1a6f024fe6b5c97d3dcfa97ce2",
      "04989a16a2424b579198bde0a6c7bc2e",
      "eca171f9cc9f413ea6d82690038fa1a0",
      "dc02f0191cb84d7bb52c818b99b696b5",
      "5eee71dfada94c1da2148701f4dc780a",
      "df0f541e1ef64d5381c89cada08d1134",
      "4c6f39d7c45948f2afa7528f72c0bc36",
      "a2d87a1d53a04089863ca579b8297784",
      "82e1b425659f412e878cfb966dc62850",
      "41ba41f17dd64cc5b500bf9fa74f1674",
      "ff283f6a2a9b4782bb9ebdcd9e2eb8ff"
     ]
    },
    "id": "731tO53SZda8",
    "outputId": "aecd97fd-7832-49ce-d2e0-7f01ca08f967"
   },
   "outputs": [
    {
     "name": "stderr",
     "output_type": "stream",
     "text": [
      "Some weights of the model checkpoint at bert-base-uncased were not used when initializing BertForSequenceClassification: ['cls.seq_relationship.bias', 'cls.predictions.transform.dense.weight', 'cls.predictions.transform.dense.bias', 'cls.predictions.decoder.weight', 'cls.predictions.transform.LayerNorm.bias', 'cls.predictions.transform.LayerNorm.weight', 'cls.seq_relationship.weight', 'cls.predictions.bias']\n",
      "- This IS expected if you are initializing BertForSequenceClassification from the checkpoint of a model trained on another task or with another architecture (e.g. initializing a BertForSequenceClassification model from a BertForPreTraining model).\n",
      "- This IS NOT expected if you are initializing BertForSequenceClassification from the checkpoint of a model that you expect to be exactly identical (initializing a BertForSequenceClassification model from a BertForSequenceClassification model).\n",
      "Some weights of BertForSequenceClassification were not initialized from the model checkpoint at bert-base-uncased and are newly initialized: ['classifier.bias', 'classifier.weight']\n",
      "You should probably TRAIN this model on a down-stream task to be able to use it for predictions and inference.\n"
     ]
    }
   ],
   "source": [
    "from transformers import BertForSequenceClassification\n",
    "\n",
    "model = BertForSequenceClassification.from_pretrained('bert-base-uncased',\n",
    "                                                      num_labels = temp,\n",
    "                                                       output_attentions = False,\n",
    "                                                      output_hidden_states = False)"
   ]
  },
  {
   "cell_type": "code",
   "execution_count": 21,
   "id": "N5Ch9xDRZ8PL",
   "metadata": {
    "colab": {
     "base_uri": "https://localhost:8080/"
    },
    "id": "N5Ch9xDRZ8PL",
    "outputId": "2f1905b5-6387-4b0a-c719-3a9ad2fd011b"
   },
   "outputs": [
    {
     "data": {
      "text/plain": [
       "BertConfig {\n",
       "  \"_name_or_path\": \"bert-base-uncased\",\n",
       "  \"architectures\": [\n",
       "    \"BertForMaskedLM\"\n",
       "  ],\n",
       "  \"attention_probs_dropout_prob\": 0.1,\n",
       "  \"classifier_dropout\": null,\n",
       "  \"gradient_checkpointing\": false,\n",
       "  \"hidden_act\": \"gelu\",\n",
       "  \"hidden_dropout_prob\": 0.1,\n",
       "  \"hidden_size\": 768,\n",
       "  \"id2label\": {\n",
       "    \"0\": \"LABEL_0\",\n",
       "    \"1\": \"LABEL_1\",\n",
       "    \"2\": \"LABEL_2\"\n",
       "  },\n",
       "  \"initializer_range\": 0.02,\n",
       "  \"intermediate_size\": 3072,\n",
       "  \"label2id\": {\n",
       "    \"LABEL_0\": 0,\n",
       "    \"LABEL_1\": 1,\n",
       "    \"LABEL_2\": 2\n",
       "  },\n",
       "  \"layer_norm_eps\": 1e-12,\n",
       "  \"max_position_embeddings\": 512,\n",
       "  \"model_type\": \"bert\",\n",
       "  \"num_attention_heads\": 12,\n",
       "  \"num_hidden_layers\": 12,\n",
       "  \"pad_token_id\": 0,\n",
       "  \"position_embedding_type\": \"absolute\",\n",
       "  \"transformers_version\": \"4.20.0\",\n",
       "  \"type_vocab_size\": 2,\n",
       "  \"use_cache\": true,\n",
       "  \"vocab_size\": 30522\n",
       "}"
      ]
     },
     "execution_count": 21,
     "metadata": {},
     "output_type": "execute_result"
    }
   ],
   "source": [
    "model.config"
   ]
  },
  {
   "cell_type": "markdown",
   "id": "15808dca-b1e2-4f90-8aee-444bcb7e445e",
   "metadata": {},
   "source": [
    "### 4.6. Setting up Optimizer and scheduler"
   ]
  },
  {
   "cell_type": "markdown",
   "id": "72915fe7-1cf5-4e99-90ee-d4f2933a9f2c",
   "metadata": {},
   "source": [
    "We are creating the optimizer with the following hyper-parameters:\n",
    "\n",
    "- Learning rate (Adam): 1e-5,\n",
    "- Number of epochs: 10\n",
    "- default epsilon value 1e-8\n",
    "\n",
    "and AdamW optimizer."
   ]
  },
  {
   "cell_type": "code",
   "execution_count": 22,
   "id": "Onpa51uAakxA",
   "metadata": {
    "colab": {
     "base_uri": "https://localhost:8080/"
    },
    "id": "Onpa51uAakxA",
    "outputId": "ed4b58a2-0492-4d7a-a330-eb4dcf6c98dc"
   },
   "outputs": [
    {
     "name": "stderr",
     "output_type": "stream",
     "text": [
      "/Users/nikhiljoshi/miniforge3/envs/mlp/lib/python3.8/site-packages/transformers/optimization.py:306: FutureWarning: This implementation of AdamW is deprecated and will be removed in a future version. Use the PyTorch implementation torch.optim.AdamW instead, or set `no_deprecation_warning=True` to disable this warning\n",
      "  warnings.warn(\n"
     ]
    }
   ],
   "source": [
    "from transformers import AdamW, get_linear_schedule_with_warmup\n",
    "\n",
    "optimizer = AdamW(model.parameters(),\n",
    "                 lr = 1e-5,\n",
    "                 eps = 1e-8) #2e-5 > 5e-5\n",
    "                 \n",
    "epochs = 10\n",
    "\n",
    "scheduler = get_linear_schedule_with_warmup(optimizer,\n",
    "                                           num_warmup_steps = 0,\n",
    "                                           num_training_steps = len(train_dataloader)*epochs)"
   ]
  },
  {
   "cell_type": "markdown",
   "id": "a61ad80a-e577-43d7-b543-185cde679e04",
   "metadata": {},
   "source": [
    "## 5. Training & Evaluation\n"
   ]
  },
  {
   "cell_type": "markdown",
   "id": "6d7f3c72-938c-46b2-b0f9-898150f62537",
   "metadata": {},
   "source": [
    "### 5.1. Evaluation\n",
    "To evaluate model, put it in validation mode by using .eval() which deactivates Dropout layer.\n",
    "- Perform a forward pass to compute logits and loss\n",
    "- Compute loss and f1-score using val set.\n"
   ]
  },
  {
   "cell_type": "code",
   "execution_count": 23,
   "id": "jASaaw7IbgR0",
   "metadata": {
    "id": "jASaaw7IbgR0"
   },
   "outputs": [],
   "source": [
    "import tqdm\n",
    "\n",
    "def evaluate(val_dataloader):\n",
    "\n",
    "    #evaluation mode \n",
    "    model.eval()\n",
    "    \n",
    "    #tracking variables\n",
    "    loss_val_total = 0\n",
    "    predictions, true_vals = [], []\n",
    "    \n",
    "    for batch in tqdm(val_dataloader):\n",
    "        \n",
    "        #load into GPU\n",
    "        batch = tuple(b.to(device) for b in batch)\n",
    "        \n",
    "        #define inputs\n",
    "        inputs = {'input_ids':      batch[0],\n",
    "                  'attention_mask': batch[1],\n",
    "                  'labels':         batch[2]}\n",
    "\n",
    "        #compute logits\n",
    "        with torch.no_grad():        \n",
    "            outputs = model(**inputs)\n",
    "        \n",
    "        #compute loss\n",
    "        loss = outputs[0]\n",
    "        logits = outputs[1]\n",
    "        loss_val_total += loss.item()\n",
    "\n",
    "        #compute accuracy\n",
    "        logits = logits.detach().cpu().numpy()\n",
    "        label_ids = inputs['labels'].cpu().numpy()\n",
    "        predictions.append(logits)\n",
    "        true_vals.append(label_ids)\n",
    "    \n",
    "    #compute average loss\n",
    "    loss_val_avg = loss_val_total/len(val_dataloader) \n",
    "    \n",
    "    predictions = np.concatenate(predictions, axis=0)\n",
    "    true_vals = np.concatenate(true_vals, axis=0)\n",
    "            \n",
    "    return loss_val_avg, predictions, true_vals"
   ]
  },
  {
   "cell_type": "markdown",
   "id": "a1635615-5adf-4391-b13e-88f4f14122e6",
   "metadata": {},
   "source": [
    "### 5.2. F1-Score, Precision & Recall"
   ]
  },
  {
   "cell_type": "code",
   "execution_count": 24,
   "id": "QX7NoRLjdekw",
   "metadata": {
    "id": "QX7NoRLjdekw"
   },
   "outputs": [],
   "source": [
    "from sklearn.metrics import f1_score\n",
    "def f1_score_func(preds, labels):\n",
    "    preds_flat = np.argmax(preds, axis = 1).flatten()\n",
    "    labels_flat = labels.flatten()\n",
    "    return f1_score(labels_flat, preds_flat, average = 'macro')\n"
   ]
  },
  {
   "cell_type": "code",
   "execution_count": 25,
   "id": "f856473e",
   "metadata": {},
   "outputs": [],
   "source": [
    "from sklearn.metrics import precision_score\n",
    "def precision_score_func(preds, labels):\n",
    "    preds_flat = np.argmax(preds, axis = 1).flatten()\n",
    "    labels_flat = labels.flatten()\n",
    "    return precision_score(labels_flat, preds_flat, average = 'macro')\n"
   ]
  },
  {
   "cell_type": "code",
   "execution_count": 26,
   "id": "ed4785dd",
   "metadata": {},
   "outputs": [],
   "source": [
    "from sklearn.metrics import recall_score\n",
    "def recall_score_func(preds, labels):\n",
    "    preds_flat = np.argmax(preds, axis = 1).flatten()\n",
    "    labels_flat = labels.flatten()\n",
    "    return recall_score(labels_flat, preds_flat, average = 'macro')\n"
   ]
  },
  {
   "cell_type": "markdown",
   "id": "b262a1cb-26dd-470b-a4fd-40c4488b9055",
   "metadata": {},
   "source": [
    "### 5.3. Accuracy "
   ]
  },
  {
   "cell_type": "code",
   "execution_count": 27,
   "id": "pedbGNkFdmln",
   "metadata": {
    "id": "pedbGNkFdmln"
   },
   "outputs": [],
   "source": [
    "from sklearn.metrics import accuracy_score\n",
    "def accuracy_score_func(preds, labels):\n",
    "    preds_flat = np.argmax(preds, axis = 1).flatten()\n",
    "    labels_flat = labels.flatten()\n",
    "    return accuracy_score(labels_flat, preds_flat)\n",
    "    "
   ]
  },
  {
   "cell_type": "markdown",
   "id": "c61712f9-751d-41fc-b0e9-05b3854b4f5b",
   "metadata": {},
   "source": [
    "### 5.4. Setting seed"
   ]
  },
  {
   "cell_type": "code",
   "execution_count": 28,
   "id": "DWb2fM7rdtcn",
   "metadata": {
    "id": "DWb2fM7rdtcn"
   },
   "outputs": [],
   "source": [
    "import random\n",
    "from tqdm import tqdm as tqdm\n",
    "seed_val = 17\n",
    "random.seed(seed_val)\n",
    "np.random.seed(seed_val)\n",
    "torch.manual_seed(seed_val)\n",
    "torch.cuda.manual_seed_all(seed_val)"
   ]
  },
  {
   "cell_type": "markdown",
   "id": "5195a106-5095-47ab-8649-f3c66d243ad2",
   "metadata": {},
   "source": [
    "### 5.5. Training\n",
    "The model is put into training mode by using .train()\n",
    "- tqdm to track progress\n",
    "- to(device) unpacks our data from the DataLoader and load the data onto the GPU.\n",
    "- zero_grad to set the gradient to 0.\n",
    "- input will take in 3 values input_id, attention_mask, and labels.\n",
    "- We will train the model forward to get loss and logits.\n",
    "- loss.backward() performs backward pass to compute gradients.\n",
    "- optimizer.step() updates the model’s parameters.\n",
    "- scheduler.step() updates learning rate.\n",
    "- evaluate and f1_score_func to evaluate and compute loss and f1-score on the val set"
   ]
  },
  {
   "cell_type": "code",
   "execution_count": 29,
   "id": "nVy-PozfeBbb",
   "metadata": {
    "colab": {
     "base_uri": "https://localhost:8080/"
    },
    "id": "nVy-PozfeBbb",
    "outputId": "91b8d8ee-2221-4e12-a062-62f812445181"
   },
   "outputs": [
    {
     "name": "stderr",
     "output_type": "stream",
     "text": [
      "  0%|          | 0/10 [00:00<?, ?it/s]"
     ]
    },
    {
     "name": "stdout",
     "output_type": "stream",
     "text": [
      "\n",
      " Epoch 1\n"
     ]
    },
    {
     "name": "stderr",
     "output_type": "stream",
     "text": [
      "100%|██████████| 18/18 [00:42<00:00,  2.33s/it]\n"
     ]
    },
    {
     "name": "stdout",
     "output_type": "stream",
     "text": [
      "Training loss:0.9221487127098382\n"
     ]
    },
    {
     "name": "stderr",
     "output_type": "stream",
     "text": [
      "100%|██████████| 18/18 [00:41<00:00,  2.30s/it]\n",
      " 10%|█         | 1/10 [15:06<2:15:54, 906.05s/it]"
     ]
    },
    {
     "name": "stdout",
     "output_type": "stream",
     "text": [
      "Validation loss:0.7439585361215804\n",
      "F1 Score (macro):0.6699732945817957\n",
      "Precision Score (macro):0.6873921547983842\n",
      "Recall Score (macro):0.679074574124079\n"
     ]
    },
    {
     "name": "stderr",
     "output_type": "stream",
     "text": []
    },
    {
     "name": "stdout",
     "output_type": "stream",
     "text": [
      "\n",
      " Epoch 2\n"
     ]
    },
    {
     "name": "stderr",
     "output_type": "stream",
     "text": [
      "100%|██████████| 18/18 [00:33<00:00,  1.88s/it]\n"
     ]
    },
    {
     "name": "stdout",
     "output_type": "stream",
     "text": [
      "Training loss:0.6133209189363554\n"
     ]
    },
    {
     "name": "stderr",
     "output_type": "stream",
     "text": [
      "100%|██████████| 18/18 [00:37<00:00,  2.08s/it]\n",
      " 20%|██        | 2/10 [30:14<2:01:01, 907.67s/it]"
     ]
    },
    {
     "name": "stdout",
     "output_type": "stream",
     "text": [
      "Validation loss:0.5734858993026946\n",
      "F1 Score (macro):0.7712670321365973\n",
      "Precision Score (macro):0.7787870966732755\n",
      "Recall Score (macro):0.7670379418894271\n"
     ]
    },
    {
     "name": "stderr",
     "output_type": "stream",
     "text": []
    },
    {
     "name": "stdout",
     "output_type": "stream",
     "text": [
      "\n",
      " Epoch 3\n"
     ]
    },
    {
     "name": "stderr",
     "output_type": "stream",
     "text": [
      "100%|██████████| 18/18 [00:30<00:00,  1.69s/it]\n"
     ]
    },
    {
     "name": "stdout",
     "output_type": "stream",
     "text": [
      "Training loss:0.4507456627838752\n"
     ]
    },
    {
     "name": "stderr",
     "output_type": "stream",
     "text": [
      "100%|██████████| 18/18 [00:31<00:00,  1.73s/it]\n",
      " 30%|███       | 3/10 [49:43<1:59:49, 1027.05s/it]"
     ]
    },
    {
     "name": "stdout",
     "output_type": "stream",
     "text": [
      "Validation loss:0.5388726078801684\n",
      "F1 Score (macro):0.7704907967006468\n",
      "Precision Score (macro):0.7914671141670753\n",
      "Recall Score (macro):0.7684517975607085\n"
     ]
    },
    {
     "name": "stderr",
     "output_type": "stream",
     "text": []
    },
    {
     "name": "stdout",
     "output_type": "stream",
     "text": [
      "\n",
      " Epoch 4\n"
     ]
    },
    {
     "name": "stderr",
     "output_type": "stream",
     "text": [
      "100%|██████████| 18/18 [00:32<00:00,  1.78s/it]\n"
     ]
    },
    {
     "name": "stdout",
     "output_type": "stream",
     "text": [
      "Training loss:0.340995467468804\n"
     ]
    },
    {
     "name": "stderr",
     "output_type": "stream",
     "text": [
      "100%|██████████| 18/18 [00:34<00:00,  1.89s/it]\n",
      " 40%|████      | 4/10 [1:08:23<1:46:20, 1063.50s/it]"
     ]
    },
    {
     "name": "stdout",
     "output_type": "stream",
     "text": [
      "Validation loss:0.5442996025085449\n",
      "F1 Score (macro):0.7890056167048768\n",
      "Precision Score (macro):0.8113727335466466\n",
      "Recall Score (macro):0.7845230237309445\n"
     ]
    },
    {
     "name": "stderr",
     "output_type": "stream",
     "text": []
    },
    {
     "name": "stdout",
     "output_type": "stream",
     "text": [
      "\n",
      " Epoch 5\n"
     ]
    },
    {
     "name": "stderr",
     "output_type": "stream",
     "text": [
      "100%|██████████| 18/18 [00:33<00:00,  1.84s/it]\n"
     ]
    },
    {
     "name": "stdout",
     "output_type": "stream",
     "text": [
      "Training loss:0.2613297649020073\n"
     ]
    },
    {
     "name": "stderr",
     "output_type": "stream",
     "text": [
      "100%|██████████| 18/18 [00:33<00:00,  1.84s/it]\n",
      " 50%|█████     | 5/10 [1:22:39<1:22:23, 988.79s/it] "
     ]
    },
    {
     "name": "stdout",
     "output_type": "stream",
     "text": [
      "Validation loss:0.5479411052332984\n",
      "F1 Score (macro):0.7996928490384807\n",
      "Precision Score (macro):0.8010190222336652\n",
      "Recall Score (macro):0.7991535344010591\n"
     ]
    },
    {
     "name": "stderr",
     "output_type": "stream",
     "text": []
    },
    {
     "name": "stdout",
     "output_type": "stream",
     "text": [
      "\n",
      " Epoch 6\n"
     ]
    },
    {
     "name": "stderr",
     "output_type": "stream",
     "text": [
      "100%|██████████| 18/18 [00:30<00:00,  1.70s/it]\n"
     ]
    },
    {
     "name": "stdout",
     "output_type": "stream",
     "text": [
      "Training loss:0.19880528569075406\n"
     ]
    },
    {
     "name": "stderr",
     "output_type": "stream",
     "text": [
      "100%|██████████| 18/18 [00:34<00:00,  1.91s/it]\n",
      " 60%|██████    | 6/10 [1:38:57<1:05:40, 985.00s/it]"
     ]
    },
    {
     "name": "stdout",
     "output_type": "stream",
     "text": [
      "Validation loss:0.567880156967375\n",
      "F1 Score (macro):0.8075541543975678\n",
      "Precision Score (macro):0.810762987012987\n",
      "Recall Score (macro):0.8075256097038276\n"
     ]
    },
    {
     "name": "stderr",
     "output_type": "stream",
     "text": []
    },
    {
     "name": "stdout",
     "output_type": "stream",
     "text": [
      "\n",
      " Epoch 7\n"
     ]
    },
    {
     "name": "stderr",
     "output_type": "stream",
     "text": [
      "100%|██████████| 18/18 [00:32<00:00,  1.81s/it]\n"
     ]
    },
    {
     "name": "stdout",
     "output_type": "stream",
     "text": [
      "Training loss:0.16125697631608038\n"
     ]
    },
    {
     "name": "stderr",
     "output_type": "stream",
     "text": [
      "100%|██████████| 18/18 [00:32<00:00,  1.82s/it]\n",
      " 70%|███████   | 7/10 [2:00:36<54:22, 1087.59s/it] "
     ]
    },
    {
     "name": "stdout",
     "output_type": "stream",
     "text": [
      "Validation loss:0.5793773002094693\n",
      "F1 Score (macro):0.8088768849921562\n",
      "Precision Score (macro):0.8134984897637603\n",
      "Recall Score (macro):0.8064526452645264\n"
     ]
    },
    {
     "name": "stderr",
     "output_type": "stream",
     "text": []
    },
    {
     "name": "stdout",
     "output_type": "stream",
     "text": [
      "\n",
      " Epoch 8\n"
     ]
    },
    {
     "name": "stderr",
     "output_type": "stream",
     "text": [
      "100%|██████████| 18/18 [00:55<00:00,  3.06s/it]\n"
     ]
    },
    {
     "name": "stdout",
     "output_type": "stream",
     "text": [
      "Training loss:0.12766081503793306\n"
     ]
    },
    {
     "name": "stderr",
     "output_type": "stream",
     "text": [
      "100%|██████████| 18/18 [00:55<00:00,  3.07s/it]\n",
      " 80%|████████  | 8/10 [2:19:36<36:48, 1104.26s/it]"
     ]
    },
    {
     "name": "stdout",
     "output_type": "stream",
     "text": [
      "Validation loss:0.6124436524179246\n",
      "F1 Score (macro):0.8101233029891876\n",
      "Precision Score (macro):0.817986561713293\n",
      "Recall Score (macro):0.8088211678310687\n"
     ]
    },
    {
     "name": "stderr",
     "output_type": "stream",
     "text": []
    },
    {
     "name": "stdout",
     "output_type": "stream",
     "text": [
      "\n",
      " Epoch 9\n"
     ]
    },
    {
     "name": "stderr",
     "output_type": "stream",
     "text": [
      "100%|██████████| 18/18 [00:57<00:00,  3.21s/it]\n"
     ]
    },
    {
     "name": "stdout",
     "output_type": "stream",
     "text": [
      "Training loss:0.10991187676714331\n"
     ]
    },
    {
     "name": "stderr",
     "output_type": "stream",
     "text": [
      "100%|██████████| 18/18 [01:04<00:00,  3.58s/it]\n",
      " 90%|█████████ | 9/10 [2:42:15<19:44, 1184.13s/it]"
     ]
    },
    {
     "name": "stdout",
     "output_type": "stream",
     "text": [
      "Validation loss:0.6205306781662835\n",
      "F1 Score (macro):0.8061233105792692\n",
      "Precision Score (macro):0.8068528607749803\n",
      "Recall Score (macro):0.8060421280223261\n"
     ]
    },
    {
     "name": "stderr",
     "output_type": "stream",
     "text": []
    },
    {
     "name": "stdout",
     "output_type": "stream",
     "text": [
      "\n",
      " Epoch 10\n"
     ]
    },
    {
     "name": "stderr",
     "output_type": "stream",
     "text": [
      "100%|██████████| 18/18 [00:45<00:00,  2.51s/it]\n"
     ]
    },
    {
     "name": "stdout",
     "output_type": "stream",
     "text": [
      "Training loss:0.08892649448677606\n"
     ]
    },
    {
     "name": "stderr",
     "output_type": "stream",
     "text": [
      "100%|██████████| 18/18 [00:45<00:00,  2.53s/it]\n",
      "100%|██████████| 10/10 [3:01:30<00:00, 1089.02s/it]"
     ]
    },
    {
     "name": "stdout",
     "output_type": "stream",
     "text": [
      "Validation loss:0.6277898136112425\n",
      "F1 Score (macro):0.8080011561318261\n",
      "Precision Score (macro):0.8096558933403982\n",
      "Recall Score (macro):0.8076256197048277\n"
     ]
    },
    {
     "name": "stderr",
     "output_type": "stream",
     "text": [
      "\n"
     ]
    }
   ],
   "source": [
    "\n",
    "for epoch in tqdm(range(1, epochs+1)):\n",
    "    \n",
    "    model.train()\n",
    "    \n",
    "    loss_train_total = 0\n",
    "    \n",
    "    progress_bar = tqdm(train_dataloader, \n",
    "                        desc = 'Epoch {:1d}'.format(epoch), \n",
    "                        leave = False, \n",
    "                        disable = False)\n",
    "    \n",
    "    for batch in progress_bar:\n",
    "        \n",
    "        model.zero_grad() #set gradient to 0\n",
    "    \n",
    "        batch = tuple(b.to(device) for b in batch)\n",
    "        \n",
    "        inputs = {'input_ids': batch[0], \n",
    "                  'attention_mask': batch[1], \n",
    "                  'labels': batch[2]}\n",
    "        \n",
    "        outputs = model(**inputs) #unpack the dict straight into inputs\n",
    "        \n",
    "        loss = outputs[0]\n",
    "        loss_train_total += loss.item()\n",
    "        loss.backward()\n",
    "        \n",
    "        torch.nn.utils.clip_grad_norm_(model.parameters(), 1.0)\n",
    "        \n",
    "        optimizer.step()\n",
    "        scheduler.step()\n",
    "        progress_bar.set_postfix({'training_loss': '{:.3f}'.format(loss.item() / len(batch))})\n",
    "        \n",
    "#    torch.save(model.state_dict(), 'c:\\\\Users\\\\Owner\\\\Desktop\\\\Sem4\\\\Capstone\\\\Project\\\\BERT_ft_epoch{0}.pth'.format(epoch))\n",
    "    \n",
    "    print('\\n Epoch {0}' .format(epoch))\n",
    "    loss_train_avg = loss_train_total / len(train_dataloader)\n",
    "    val_loss, predictions, true_vals = evaluate(val_dataloader)\n",
    "    print('Training loss:{0}' .format(loss_train_avg))\n",
    "    val_loss, predictions, true_vals = evaluate(val_dataloader)\n",
    "    val_f1 = f1_score_func(predictions, true_vals)\n",
    "    val_precision=precision_score_func(predictions,true_vals)\n",
    "    val_recall=recall_score_func(predictions,true_vals)\n",
    "    print('Validation loss:{0}'.format(val_loss))\n",
    "    print('F1 Score (macro):{0}' .format(val_f1))\n",
    "    print('Precision Score (macro):{0}' .format(val_precision))\n",
    "    print('Recall Score (macro):{0}' .format(val_recall))\n",
    "  \n",
    "   \n"
   ]
  },
  {
   "cell_type": "markdown",
   "id": "a7f72923-f021-4168-b45b-fe7ee1316b8a",
   "metadata": {},
   "source": [
    "### 5.6. Prediction"
   ]
  },
  {
   "cell_type": "markdown",
   "id": "eef50835-919e-4edc-b01b-ac56610114ce",
   "metadata": {},
   "source": [
    " We will perform a forward pass to compute logits and apply softmax to calculate probabilities."
   ]
  },
  {
   "cell_type": "code",
   "execution_count": 30,
   "id": "2nlEOvkcz3wV",
   "metadata": {
    "id": "2nlEOvkcz3wV"
   },
   "outputs": [],
   "source": [
    "import torch.nn.functional as F\n",
    "\n",
    "def bert_predict(model, test_dataloader):\n",
    "    \"\"\"Perform a forward pass on the trained BERT model to predict probabilities\n",
    "    on the test set.\n",
    "    \"\"\"\n",
    "    # Put the model into the evaluation mode. The dropout layers are disabled during\n",
    "    # the test time.\n",
    "    model.eval()\n",
    "\n",
    "    all_logits = []\n",
    "\n",
    "    # For each batch in our test set...\n",
    "    for batch in test_dataloader:\n",
    "        # Load batch to GPU\n",
    "        b_input_ids, b_attn_mask = tuple(t.to(device) for t in batch)[:2]\n",
    "\n",
    "        # Compute logits\n",
    "        with torch.no_grad():\n",
    "            logits = model(b_input_ids, b_attn_mask).logits\n",
    "        all_logits.append(logits)\n",
    "    \n",
    "    \n",
    "    # Concatenate logits from each batch\n",
    "    all_logits = torch.cat(all_logits, dim=0)\n",
    "\n",
    "    # Apply softmax to calculate probabilities\n",
    "    probs = F.softmax(all_logits, dim=1).cpu().numpy()   \n",
    "    return probs"
   ]
  },
  {
   "cell_type": "code",
   "execution_count": 47,
   "id": "LwxdRHysnjwo",
   "metadata": {
    "id": "LwxdRHysnjwo"
   },
   "outputs": [
    {
     "name": "stdout",
     "output_type": "stream",
     "text": [
      "              precision    recall  f1-score   support\n",
      "\n",
      "           0       0.76      0.81      0.78       202\n",
      "           1       0.88      0.87      0.87       175\n",
      "           2       0.79      0.74      0.77       198\n",
      "\n",
      "    accuracy                           0.81       575\n",
      "   macro avg       0.81      0.81      0.81       575\n",
      "weighted avg       0.81      0.81      0.81       575\n",
      "\n"
     ]
    }
   ],
   "source": [
    "from sklearn.metrics import classification_report\n",
    "\n",
    "def creport(preds, labels):\n",
    "    preds_flat = np.argmax(preds, axis = 1).flatten()\n",
    "    labels_flat = labels.flatten()\n",
    "    print(classification_report(labels_flat, preds_flat))\n",
    "\n",
    "creport(predictions,true_vals)"
   ]
  },
  {
   "cell_type": "code",
   "execution_count": 30,
   "id": "hKt7JEM_SLcJ",
   "metadata": {
    "id": "hKt7JEM_SLcJ"
   },
   "outputs": [],
   "source": [
    "test_data = pd.read_csv('/Users/nikhiljoshi/Documents/GitHub/Project/data/input3.csv')\n",
    "sample_test = test_data.sample(frac=1.0, replace=False, random_state=17)"
   ]
  },
  {
   "cell_type": "code",
   "execution_count": 44,
   "id": "8bd8887b",
   "metadata": {},
   "outputs": [
    {
     "name": "stdout",
     "output_type": "stream",
     "text": [
      "<class 'pandas.core.frame.DataFrame'>\n",
      "RangeIndex: 126275 entries, 0 to 126274\n",
      "Data columns (total 9 columns):\n",
      " #   Column        Non-Null Count   Dtype  \n",
      "---  ------        --------------   -----  \n",
      " 0   level_0       126275 non-null  int64  \n",
      " 1   index         126275 non-null  int64  \n",
      " 2   Datetime      126275 non-null  object \n",
      " 3   Tweet Id      126275 non-null  float64\n",
      " 4   Text          126275 non-null  object \n",
      " 5   Location      95072 non-null   object \n",
      " 6   Retweet       126275 non-null  int64  \n",
      " 7   Like          126275 non-null  int64  \n",
      " 8   new_Hashtags  126240 non-null  object \n",
      "dtypes: float64(1), int64(4), object(4)\n",
      "memory usage: 8.7+ MB\n"
     ]
    }
   ],
   "source": [
    "sample_test.reset_index(inplace=True)\n",
    "sample_test.info()\n"
   ]
  },
  {
   "cell_type": "code",
   "execution_count": 33,
   "id": "9be0c8f5",
   "metadata": {},
   "outputs": [
    {
     "name": "stdout",
     "output_type": "stream",
     "text": [
      "Max length:  167\n"
     ]
    }
   ],
   "source": [
    "encoded_test_tweets = [tokenizer.encode(sent, add_special_tokens=True) for sent in sample_test.Text]\n",
    "\n",
    "max_len = max([len(sent) for sent in encoded_test_tweets])\n",
    "print('Max length: ', max_len)\n"
   ]
  },
  {
   "cell_type": "code",
   "execution_count": 34,
   "id": "c7cf2935",
   "metadata": {},
   "outputs": [],
   "source": [
    "test_inputs, test_masks = tokenize_text(sample_test.Text,max_len)\n",
    "\n",
    "# Create the DataLoader for our test set\n",
    "test_dataset = TensorDataset(test_inputs, test_masks)\n",
    "test_sampler = SequentialSampler(test_dataset)\n",
    "test_dataloader = DataLoader(test_dataset, sampler=test_sampler, batch_size=32)"
   ]
  },
  {
   "cell_type": "code",
   "execution_count": 35,
   "id": "XYOV72-9T7R0",
   "metadata": {
    "id": "XYOV72-9T7R0"
   },
   "outputs": [],
   "source": [
    "prob=bert_predict(model,test_dataloader)"
   ]
  },
  {
   "cell_type": "code",
   "execution_count": 36,
   "id": "bf165c81-918d-4f1f-bc65-648b1cb6dcf5",
   "metadata": {},
   "outputs": [],
   "source": [
    "probs=[]\n",
    "for x in range(len(test_data)):\n",
    "    probs.append(prob[x].argmax())\n",
    "\n",
    "\n",
    "Final=pd.DataFrame(probs)\n",
    "Final.columns=['Pred']"
   ]
  }
 ],
 "metadata": {
  "colab": {
   "collapsed_sections": [],
   "name": "Model.ipynb",
   "provenance": []
  },
  "gpuClass": "standard",
  "interpreter": {
   "hash": "b150984740fdf7a72966a4799adcabc4c74de8e98c33bd097cc544a8aaf6dd26"
  },
  "kernelspec": {
   "display_name": "Python 3 (ipykernel)",
   "language": "python",
   "name": "python3"
  },
  "language_info": {
   "codemirror_mode": {
    "name": "ipython",
    "version": 3
   },
   "file_extension": ".py",
   "mimetype": "text/x-python",
   "name": "python",
   "nbconvert_exporter": "python",
   "pygments_lexer": "ipython3",
   "version": "3.8.12"
  },
  "widgets": {
   "application/vnd.jupyter.widget-state+json": {
    "04989a16a2424b579198bde0a6c7bc2e": {
     "model_module": "@jupyter-widgets/controls",
     "model_module_version": "1.5.0",
     "model_name": "HTMLModel",
     "state": {
      "_dom_classes": [],
      "_model_module": "@jupyter-widgets/controls",
      "_model_module_version": "1.5.0",
      "_model_name": "HTMLModel",
      "_view_count": null,
      "_view_module": "@jupyter-widgets/controls",
      "_view_module_version": "1.5.0",
      "_view_name": "HTMLView",
      "description": "",
      "description_tooltip": null,
      "layout": "IPY_MODEL_df0f541e1ef64d5381c89cada08d1134",
      "placeholder": "​",
      "style": "IPY_MODEL_4c6f39d7c45948f2afa7528f72c0bc36",
      "value": "Downloading: 100%"
     }
    },
    "065d7050164047a4b3cb1b297b4e839e": {
     "model_module": "@jupyter-widgets/controls",
     "model_module_version": "1.5.0",
     "model_name": "HTMLModel",
     "state": {
      "_dom_classes": [],
      "_model_module": "@jupyter-widgets/controls",
      "_model_module_version": "1.5.0",
      "_model_name": "HTMLModel",
      "_view_count": null,
      "_view_module": "@jupyter-widgets/controls",
      "_view_module_version": "1.5.0",
      "_view_name": "HTMLView",
      "description": "",
      "description_tooltip": null,
      "layout": "IPY_MODEL_0722f653064d4e1fa04051b3638c1477",
      "placeholder": "​",
      "style": "IPY_MODEL_f1d6ff71e3344739a0cb3b4bf4563714",
      "value": " 570/570 [00:00&lt;00:00, 16.6kB/s]"
     }
    },
    "0722f653064d4e1fa04051b3638c1477": {
     "model_module": "@jupyter-widgets/base",
     "model_module_version": "1.2.0",
     "model_name": "LayoutModel",
     "state": {
      "_model_module": "@jupyter-widgets/base",
      "_model_module_version": "1.2.0",
      "_model_name": "LayoutModel",
      "_view_count": null,
      "_view_module": "@jupyter-widgets/base",
      "_view_module_version": "1.2.0",
      "_view_name": "LayoutView",
      "align_content": null,
      "align_items": null,
      "align_self": null,
      "border": null,
      "bottom": null,
      "display": null,
      "flex": null,
      "flex_flow": null,
      "grid_area": null,
      "grid_auto_columns": null,
      "grid_auto_flow": null,
      "grid_auto_rows": null,
      "grid_column": null,
      "grid_gap": null,
      "grid_row": null,
      "grid_template_areas": null,
      "grid_template_columns": null,
      "grid_template_rows": null,
      "height": null,
      "justify_content": null,
      "justify_items": null,
      "left": null,
      "margin": null,
      "max_height": null,
      "max_width": null,
      "min_height": null,
      "min_width": null,
      "object_fit": null,
      "object_position": null,
      "order": null,
      "overflow": null,
      "overflow_x": null,
      "overflow_y": null,
      "padding": null,
      "right": null,
      "top": null,
      "visibility": null,
      "width": null
     }
    },
    "0e01cf920d204460bdc3505e5b95ed4d": {
     "model_module": "@jupyter-widgets/controls",
     "model_module_version": "1.5.0",
     "model_name": "HBoxModel",
     "state": {
      "_dom_classes": [],
      "_model_module": "@jupyter-widgets/controls",
      "_model_module_version": "1.5.0",
      "_model_name": "HBoxModel",
      "_view_count": null,
      "_view_module": "@jupyter-widgets/controls",
      "_view_module_version": "1.5.0",
      "_view_name": "HBoxView",
      "box_style": "",
      "children": [
       "IPY_MODEL_6296180de6e949b9a1a4ac04acea1954",
       "IPY_MODEL_b99cb564a1dd487db01b6a5b022f543b",
       "IPY_MODEL_065d7050164047a4b3cb1b297b4e839e"
      ],
      "layout": "IPY_MODEL_adbc3ea0a2f64fa98f4e69f54e3273fe"
     }
    },
    "114e304ed8f346eba6ef4e6ba0c70de4": {
     "model_module": "@jupyter-widgets/base",
     "model_module_version": "1.2.0",
     "model_name": "LayoutModel",
     "state": {
      "_model_module": "@jupyter-widgets/base",
      "_model_module_version": "1.2.0",
      "_model_name": "LayoutModel",
      "_view_count": null,
      "_view_module": "@jupyter-widgets/base",
      "_view_module_version": "1.2.0",
      "_view_name": "LayoutView",
      "align_content": null,
      "align_items": null,
      "align_self": null,
      "border": null,
      "bottom": null,
      "display": null,
      "flex": null,
      "flex_flow": null,
      "grid_area": null,
      "grid_auto_columns": null,
      "grid_auto_flow": null,
      "grid_auto_rows": null,
      "grid_column": null,
      "grid_gap": null,
      "grid_row": null,
      "grid_template_areas": null,
      "grid_template_columns": null,
      "grid_template_rows": null,
      "height": null,
      "justify_content": null,
      "justify_items": null,
      "left": null,
      "margin": null,
      "max_height": null,
      "max_width": null,
      "min_height": null,
      "min_width": null,
      "object_fit": null,
      "object_position": null,
      "order": null,
      "overflow": null,
      "overflow_x": null,
      "overflow_y": null,
      "padding": null,
      "right": null,
      "top": null,
      "visibility": null,
      "width": null
     }
    },
    "1236fc16a29d4d658589b821165afa87": {
     "model_module": "@jupyter-widgets/base",
     "model_module_version": "1.2.0",
     "model_name": "LayoutModel",
     "state": {
      "_model_module": "@jupyter-widgets/base",
      "_model_module_version": "1.2.0",
      "_model_name": "LayoutModel",
      "_view_count": null,
      "_view_module": "@jupyter-widgets/base",
      "_view_module_version": "1.2.0",
      "_view_name": "LayoutView",
      "align_content": null,
      "align_items": null,
      "align_self": null,
      "border": null,
      "bottom": null,
      "display": null,
      "flex": null,
      "flex_flow": null,
      "grid_area": null,
      "grid_auto_columns": null,
      "grid_auto_flow": null,
      "grid_auto_rows": null,
      "grid_column": null,
      "grid_gap": null,
      "grid_row": null,
      "grid_template_areas": null,
      "grid_template_columns": null,
      "grid_template_rows": null,
      "height": null,
      "justify_content": null,
      "justify_items": null,
      "left": null,
      "margin": null,
      "max_height": null,
      "max_width": null,
      "min_height": null,
      "min_width": null,
      "object_fit": null,
      "object_position": null,
      "order": null,
      "overflow": null,
      "overflow_x": null,
      "overflow_y": null,
      "padding": null,
      "right": null,
      "top": null,
      "visibility": null,
      "width": null
     }
    },
    "1381474ddd6b4e7bbb301134deec5fc8": {
     "model_module": "@jupyter-widgets/controls",
     "model_module_version": "1.5.0",
     "model_name": "ProgressStyleModel",
     "state": {
      "_model_module": "@jupyter-widgets/controls",
      "_model_module_version": "1.5.0",
      "_model_name": "ProgressStyleModel",
      "_view_count": null,
      "_view_module": "@jupyter-widgets/base",
      "_view_module_version": "1.2.0",
      "_view_name": "StyleView",
      "bar_color": null,
      "description_width": ""
     }
    },
    "1a62ba57a37b47d5a70730ba86a7ce96": {
     "model_module": "@jupyter-widgets/controls",
     "model_module_version": "1.5.0",
     "model_name": "FloatProgressModel",
     "state": {
      "_dom_classes": [],
      "_model_module": "@jupyter-widgets/controls",
      "_model_module_version": "1.5.0",
      "_model_name": "FloatProgressModel",
      "_view_count": null,
      "_view_module": "@jupyter-widgets/controls",
      "_view_module_version": "1.5.0",
      "_view_name": "ProgressView",
      "bar_style": "success",
      "description": "",
      "description_tooltip": null,
      "layout": "IPY_MODEL_e5cfe9b6699c48e7a65620038a1e7b19",
      "max": 231508,
      "min": 0,
      "orientation": "horizontal",
      "style": "IPY_MODEL_8a904b29337a4524a0648b38ac0ecf67",
      "value": 231508
     }
    },
    "279d4243c77143259b5c0313bca14d35": {
     "model_module": "@jupyter-widgets/controls",
     "model_module_version": "1.5.0",
     "model_name": "HTMLModel",
     "state": {
      "_dom_classes": [],
      "_model_module": "@jupyter-widgets/controls",
      "_model_module_version": "1.5.0",
      "_model_name": "HTMLModel",
      "_view_count": null,
      "_view_module": "@jupyter-widgets/controls",
      "_view_module_version": "1.5.0",
      "_view_name": "HTMLView",
      "description": "",
      "description_tooltip": null,
      "layout": "IPY_MODEL_1236fc16a29d4d658589b821165afa87",
      "placeholder": "​",
      "style": "IPY_MODEL_ca89066e4fbd42e1bc13fe77dcbbbbdd",
      "value": "Downloading: 100%"
     }
    },
    "2bf049aeeff94de48476dec39fd0d40d": {
     "model_module": "@jupyter-widgets/controls",
     "model_module_version": "1.5.0",
     "model_name": "DescriptionStyleModel",
     "state": {
      "_model_module": "@jupyter-widgets/controls",
      "_model_module_version": "1.5.0",
      "_model_name": "DescriptionStyleModel",
      "_view_count": null,
      "_view_module": "@jupyter-widgets/base",
      "_view_module_version": "1.2.0",
      "_view_name": "StyleView",
      "description_width": ""
     }
    },
    "2fca2af539ef4ea2a1748ab70e765f2b": {
     "model_module": "@jupyter-widgets/controls",
     "model_module_version": "1.5.0",
     "model_name": "HTMLModel",
     "state": {
      "_dom_classes": [],
      "_model_module": "@jupyter-widgets/controls",
      "_model_module_version": "1.5.0",
      "_model_name": "HTMLModel",
      "_view_count": null,
      "_view_module": "@jupyter-widgets/controls",
      "_view_module_version": "1.5.0",
      "_view_name": "HTMLView",
      "description": "",
      "description_tooltip": null,
      "layout": "IPY_MODEL_a11003ba19b04f359d09b52c435cc7e4",
      "placeholder": "​",
      "style": "IPY_MODEL_efc9116e42904aab976b88307793d23b",
      "value": " 28.0/28.0 [00:00&lt;00:00, 681B/s]"
     }
    },
    "336a4c636daa4637b6cfe98286f9c872": {
     "model_module": "@jupyter-widgets/controls",
     "model_module_version": "1.5.0",
     "model_name": "HTMLModel",
     "state": {
      "_dom_classes": [],
      "_model_module": "@jupyter-widgets/controls",
      "_model_module_version": "1.5.0",
      "_model_name": "HTMLModel",
      "_view_count": null,
      "_view_module": "@jupyter-widgets/controls",
      "_view_module_version": "1.5.0",
      "_view_name": "HTMLView",
      "description": "",
      "description_tooltip": null,
      "layout": "IPY_MODEL_36a7dcd070b14db8bb8c4f63602c8d81",
      "placeholder": "​",
      "style": "IPY_MODEL_5db7e0b416304a3085854a725277384b",
      "value": " 226k/226k [00:00&lt;00:00, 833kB/s]"
     }
    },
    "36a7dcd070b14db8bb8c4f63602c8d81": {
     "model_module": "@jupyter-widgets/base",
     "model_module_version": "1.2.0",
     "model_name": "LayoutModel",
     "state": {
      "_model_module": "@jupyter-widgets/base",
      "_model_module_version": "1.2.0",
      "_model_name": "LayoutModel",
      "_view_count": null,
      "_view_module": "@jupyter-widgets/base",
      "_view_module_version": "1.2.0",
      "_view_name": "LayoutView",
      "align_content": null,
      "align_items": null,
      "align_self": null,
      "border": null,
      "bottom": null,
      "display": null,
      "flex": null,
      "flex_flow": null,
      "grid_area": null,
      "grid_auto_columns": null,
      "grid_auto_flow": null,
      "grid_auto_rows": null,
      "grid_column": null,
      "grid_gap": null,
      "grid_row": null,
      "grid_template_areas": null,
      "grid_template_columns": null,
      "grid_template_rows": null,
      "height": null,
      "justify_content": null,
      "justify_items": null,
      "left": null,
      "margin": null,
      "max_height": null,
      "max_width": null,
      "min_height": null,
      "min_width": null,
      "object_fit": null,
      "object_position": null,
      "order": null,
      "overflow": null,
      "overflow_x": null,
      "overflow_y": null,
      "padding": null,
      "right": null,
      "top": null,
      "visibility": null,
      "width": null
     }
    },
    "3926badb1de349a0b57767738c89b27e": {
     "model_module": "@jupyter-widgets/base",
     "model_module_version": "1.2.0",
     "model_name": "LayoutModel",
     "state": {
      "_model_module": "@jupyter-widgets/base",
      "_model_module_version": "1.2.0",
      "_model_name": "LayoutModel",
      "_view_count": null,
      "_view_module": "@jupyter-widgets/base",
      "_view_module_version": "1.2.0",
      "_view_name": "LayoutView",
      "align_content": null,
      "align_items": null,
      "align_self": null,
      "border": null,
      "bottom": null,
      "display": null,
      "flex": null,
      "flex_flow": null,
      "grid_area": null,
      "grid_auto_columns": null,
      "grid_auto_flow": null,
      "grid_auto_rows": null,
      "grid_column": null,
      "grid_gap": null,
      "grid_row": null,
      "grid_template_areas": null,
      "grid_template_columns": null,
      "grid_template_rows": null,
      "height": null,
      "justify_content": null,
      "justify_items": null,
      "left": null,
      "margin": null,
      "max_height": null,
      "max_width": null,
      "min_height": null,
      "min_width": null,
      "object_fit": null,
      "object_position": null,
      "order": null,
      "overflow": null,
      "overflow_x": null,
      "overflow_y": null,
      "padding": null,
      "right": null,
      "top": null,
      "visibility": null,
      "width": null
     }
    },
    "41ba41f17dd64cc5b500bf9fa74f1674": {
     "model_module": "@jupyter-widgets/base",
     "model_module_version": "1.2.0",
     "model_name": "LayoutModel",
     "state": {
      "_model_module": "@jupyter-widgets/base",
      "_model_module_version": "1.2.0",
      "_model_name": "LayoutModel",
      "_view_count": null,
      "_view_module": "@jupyter-widgets/base",
      "_view_module_version": "1.2.0",
      "_view_name": "LayoutView",
      "align_content": null,
      "align_items": null,
      "align_self": null,
      "border": null,
      "bottom": null,
      "display": null,
      "flex": null,
      "flex_flow": null,
      "grid_area": null,
      "grid_auto_columns": null,
      "grid_auto_flow": null,
      "grid_auto_rows": null,
      "grid_column": null,
      "grid_gap": null,
      "grid_row": null,
      "grid_template_areas": null,
      "grid_template_columns": null,
      "grid_template_rows": null,
      "height": null,
      "justify_content": null,
      "justify_items": null,
      "left": null,
      "margin": null,
      "max_height": null,
      "max_width": null,
      "min_height": null,
      "min_width": null,
      "object_fit": null,
      "object_position": null,
      "order": null,
      "overflow": null,
      "overflow_x": null,
      "overflow_y": null,
      "padding": null,
      "right": null,
      "top": null,
      "visibility": null,
      "width": null
     }
    },
    "45cb6b02198f46ba96d621f6faff6ef0": {
     "model_module": "@jupyter-widgets/controls",
     "model_module_version": "1.5.0",
     "model_name": "HBoxModel",
     "state": {
      "_dom_classes": [],
      "_model_module": "@jupyter-widgets/controls",
      "_model_module_version": "1.5.0",
      "_model_name": "HBoxModel",
      "_view_count": null,
      "_view_module": "@jupyter-widgets/controls",
      "_view_module_version": "1.5.0",
      "_view_name": "HBoxView",
      "box_style": "",
      "children": [
       "IPY_MODEL_279d4243c77143259b5c0313bca14d35",
       "IPY_MODEL_1a62ba57a37b47d5a70730ba86a7ce96",
       "IPY_MODEL_336a4c636daa4637b6cfe98286f9c872"
      ],
      "layout": "IPY_MODEL_fd0d7a4f73f140c9a51cd97b48f9b581"
     }
    },
    "4c6f39d7c45948f2afa7528f72c0bc36": {
     "model_module": "@jupyter-widgets/controls",
     "model_module_version": "1.5.0",
     "model_name": "DescriptionStyleModel",
     "state": {
      "_model_module": "@jupyter-widgets/controls",
      "_model_module_version": "1.5.0",
      "_model_name": "DescriptionStyleModel",
      "_view_count": null,
      "_view_module": "@jupyter-widgets/base",
      "_view_module_version": "1.2.0",
      "_view_name": "StyleView",
      "description_width": ""
     }
    },
    "4e128c78f66e4f1b95510e69980595e6": {
     "model_module": "@jupyter-widgets/base",
     "model_module_version": "1.2.0",
     "model_name": "LayoutModel",
     "state": {
      "_model_module": "@jupyter-widgets/base",
      "_model_module_version": "1.2.0",
      "_model_name": "LayoutModel",
      "_view_count": null,
      "_view_module": "@jupyter-widgets/base",
      "_view_module_version": "1.2.0",
      "_view_name": "LayoutView",
      "align_content": null,
      "align_items": null,
      "align_self": null,
      "border": null,
      "bottom": null,
      "display": null,
      "flex": null,
      "flex_flow": null,
      "grid_area": null,
      "grid_auto_columns": null,
      "grid_auto_flow": null,
      "grid_auto_rows": null,
      "grid_column": null,
      "grid_gap": null,
      "grid_row": null,
      "grid_template_areas": null,
      "grid_template_columns": null,
      "grid_template_rows": null,
      "height": null,
      "justify_content": null,
      "justify_items": null,
      "left": null,
      "margin": null,
      "max_height": null,
      "max_width": null,
      "min_height": null,
      "min_width": null,
      "object_fit": null,
      "object_position": null,
      "order": null,
      "overflow": null,
      "overflow_x": null,
      "overflow_y": null,
      "padding": null,
      "right": null,
      "top": null,
      "visibility": null,
      "width": null
     }
    },
    "5db7e0b416304a3085854a725277384b": {
     "model_module": "@jupyter-widgets/controls",
     "model_module_version": "1.5.0",
     "model_name": "DescriptionStyleModel",
     "state": {
      "_model_module": "@jupyter-widgets/controls",
      "_model_module_version": "1.5.0",
      "_model_name": "DescriptionStyleModel",
      "_view_count": null,
      "_view_module": "@jupyter-widgets/base",
      "_view_module_version": "1.2.0",
      "_view_name": "StyleView",
      "description_width": ""
     }
    },
    "5eee71dfada94c1da2148701f4dc780a": {
     "model_module": "@jupyter-widgets/base",
     "model_module_version": "1.2.0",
     "model_name": "LayoutModel",
     "state": {
      "_model_module": "@jupyter-widgets/base",
      "_model_module_version": "1.2.0",
      "_model_name": "LayoutModel",
      "_view_count": null,
      "_view_module": "@jupyter-widgets/base",
      "_view_module_version": "1.2.0",
      "_view_name": "LayoutView",
      "align_content": null,
      "align_items": null,
      "align_self": null,
      "border": null,
      "bottom": null,
      "display": null,
      "flex": null,
      "flex_flow": null,
      "grid_area": null,
      "grid_auto_columns": null,
      "grid_auto_flow": null,
      "grid_auto_rows": null,
      "grid_column": null,
      "grid_gap": null,
      "grid_row": null,
      "grid_template_areas": null,
      "grid_template_columns": null,
      "grid_template_rows": null,
      "height": null,
      "justify_content": null,
      "justify_items": null,
      "left": null,
      "margin": null,
      "max_height": null,
      "max_width": null,
      "min_height": null,
      "min_width": null,
      "object_fit": null,
      "object_position": null,
      "order": null,
      "overflow": null,
      "overflow_x": null,
      "overflow_y": null,
      "padding": null,
      "right": null,
      "top": null,
      "visibility": null,
      "width": null
     }
    },
    "6296180de6e949b9a1a4ac04acea1954": {
     "model_module": "@jupyter-widgets/controls",
     "model_module_version": "1.5.0",
     "model_name": "HTMLModel",
     "state": {
      "_dom_classes": [],
      "_model_module": "@jupyter-widgets/controls",
      "_model_module_version": "1.5.0",
      "_model_name": "HTMLModel",
      "_view_count": null,
      "_view_module": "@jupyter-widgets/controls",
      "_view_module_version": "1.5.0",
      "_view_name": "HTMLView",
      "description": "",
      "description_tooltip": null,
      "layout": "IPY_MODEL_114e304ed8f346eba6ef4e6ba0c70de4",
      "placeholder": "​",
      "style": "IPY_MODEL_2bf049aeeff94de48476dec39fd0d40d",
      "value": "Downloading: 100%"
     }
    },
    "64a3f6569d624460aabbc41c50bada7d": {
     "model_module": "@jupyter-widgets/controls",
     "model_module_version": "1.5.0",
     "model_name": "HBoxModel",
     "state": {
      "_dom_classes": [],
      "_model_module": "@jupyter-widgets/controls",
      "_model_module_version": "1.5.0",
      "_model_name": "HBoxModel",
      "_view_count": null,
      "_view_module": "@jupyter-widgets/controls",
      "_view_module_version": "1.5.0",
      "_view_name": "HBoxView",
      "box_style": "",
      "children": [
       "IPY_MODEL_82c4e2d18ab443a3938753375ba4b503",
       "IPY_MODEL_af4fadc82bdc4dcb804427c1f7d721ab",
       "IPY_MODEL_2fca2af539ef4ea2a1748ab70e765f2b"
      ],
      "layout": "IPY_MODEL_4e128c78f66e4f1b95510e69980595e6"
     }
    },
    "827c309799fa4a79afb1623e87a73d96": {
     "model_module": "@jupyter-widgets/controls",
     "model_module_version": "1.5.0",
     "model_name": "ProgressStyleModel",
     "state": {
      "_model_module": "@jupyter-widgets/controls",
      "_model_module_version": "1.5.0",
      "_model_name": "ProgressStyleModel",
      "_view_count": null,
      "_view_module": "@jupyter-widgets/base",
      "_view_module_version": "1.2.0",
      "_view_name": "StyleView",
      "bar_color": null,
      "description_width": ""
     }
    },
    "82c4e2d18ab443a3938753375ba4b503": {
     "model_module": "@jupyter-widgets/controls",
     "model_module_version": "1.5.0",
     "model_name": "HTMLModel",
     "state": {
      "_dom_classes": [],
      "_model_module": "@jupyter-widgets/controls",
      "_model_module_version": "1.5.0",
      "_model_name": "HTMLModel",
      "_view_count": null,
      "_view_module": "@jupyter-widgets/controls",
      "_view_module_version": "1.5.0",
      "_view_name": "HTMLView",
      "description": "",
      "description_tooltip": null,
      "layout": "IPY_MODEL_bf34fc6bfae44a6890066db9b30dc74a",
      "placeholder": "​",
      "style": "IPY_MODEL_b29bdc5fc745406794ac84b6614e6fdd",
      "value": "Downloading: 100%"
     }
    },
    "82e1b425659f412e878cfb966dc62850": {
     "model_module": "@jupyter-widgets/controls",
     "model_module_version": "1.5.0",
     "model_name": "ProgressStyleModel",
     "state": {
      "_model_module": "@jupyter-widgets/controls",
      "_model_module_version": "1.5.0",
      "_model_name": "ProgressStyleModel",
      "_view_count": null,
      "_view_module": "@jupyter-widgets/base",
      "_view_module_version": "1.2.0",
      "_view_name": "StyleView",
      "bar_color": null,
      "description_width": ""
     }
    },
    "8a904b29337a4524a0648b38ac0ecf67": {
     "model_module": "@jupyter-widgets/controls",
     "model_module_version": "1.5.0",
     "model_name": "ProgressStyleModel",
     "state": {
      "_model_module": "@jupyter-widgets/controls",
      "_model_module_version": "1.5.0",
      "_model_name": "ProgressStyleModel",
      "_view_count": null,
      "_view_module": "@jupyter-widgets/base",
      "_view_module_version": "1.2.0",
      "_view_name": "StyleView",
      "bar_color": null,
      "description_width": ""
     }
    },
    "a11003ba19b04f359d09b52c435cc7e4": {
     "model_module": "@jupyter-widgets/base",
     "model_module_version": "1.2.0",
     "model_name": "LayoutModel",
     "state": {
      "_model_module": "@jupyter-widgets/base",
      "_model_module_version": "1.2.0",
      "_model_name": "LayoutModel",
      "_view_count": null,
      "_view_module": "@jupyter-widgets/base",
      "_view_module_version": "1.2.0",
      "_view_name": "LayoutView",
      "align_content": null,
      "align_items": null,
      "align_self": null,
      "border": null,
      "bottom": null,
      "display": null,
      "flex": null,
      "flex_flow": null,
      "grid_area": null,
      "grid_auto_columns": null,
      "grid_auto_flow": null,
      "grid_auto_rows": null,
      "grid_column": null,
      "grid_gap": null,
      "grid_row": null,
      "grid_template_areas": null,
      "grid_template_columns": null,
      "grid_template_rows": null,
      "height": null,
      "justify_content": null,
      "justify_items": null,
      "left": null,
      "margin": null,
      "max_height": null,
      "max_width": null,
      "min_height": null,
      "min_width": null,
      "object_fit": null,
      "object_position": null,
      "order": null,
      "overflow": null,
      "overflow_x": null,
      "overflow_y": null,
      "padding": null,
      "right": null,
      "top": null,
      "visibility": null,
      "width": null
     }
    },
    "a2d87a1d53a04089863ca579b8297784": {
     "model_module": "@jupyter-widgets/base",
     "model_module_version": "1.2.0",
     "model_name": "LayoutModel",
     "state": {
      "_model_module": "@jupyter-widgets/base",
      "_model_module_version": "1.2.0",
      "_model_name": "LayoutModel",
      "_view_count": null,
      "_view_module": "@jupyter-widgets/base",
      "_view_module_version": "1.2.0",
      "_view_name": "LayoutView",
      "align_content": null,
      "align_items": null,
      "align_self": null,
      "border": null,
      "bottom": null,
      "display": null,
      "flex": null,
      "flex_flow": null,
      "grid_area": null,
      "grid_auto_columns": null,
      "grid_auto_flow": null,
      "grid_auto_rows": null,
      "grid_column": null,
      "grid_gap": null,
      "grid_row": null,
      "grid_template_areas": null,
      "grid_template_columns": null,
      "grid_template_rows": null,
      "height": null,
      "justify_content": null,
      "justify_items": null,
      "left": null,
      "margin": null,
      "max_height": null,
      "max_width": null,
      "min_height": null,
      "min_width": null,
      "object_fit": null,
      "object_position": null,
      "order": null,
      "overflow": null,
      "overflow_x": null,
      "overflow_y": null,
      "padding": null,
      "right": null,
      "top": null,
      "visibility": null,
      "width": null
     }
    },
    "adbc3ea0a2f64fa98f4e69f54e3273fe": {
     "model_module": "@jupyter-widgets/base",
     "model_module_version": "1.2.0",
     "model_name": "LayoutModel",
     "state": {
      "_model_module": "@jupyter-widgets/base",
      "_model_module_version": "1.2.0",
      "_model_name": "LayoutModel",
      "_view_count": null,
      "_view_module": "@jupyter-widgets/base",
      "_view_module_version": "1.2.0",
      "_view_name": "LayoutView",
      "align_content": null,
      "align_items": null,
      "align_self": null,
      "border": null,
      "bottom": null,
      "display": null,
      "flex": null,
      "flex_flow": null,
      "grid_area": null,
      "grid_auto_columns": null,
      "grid_auto_flow": null,
      "grid_auto_rows": null,
      "grid_column": null,
      "grid_gap": null,
      "grid_row": null,
      "grid_template_areas": null,
      "grid_template_columns": null,
      "grid_template_rows": null,
      "height": null,
      "justify_content": null,
      "justify_items": null,
      "left": null,
      "margin": null,
      "max_height": null,
      "max_width": null,
      "min_height": null,
      "min_width": null,
      "object_fit": null,
      "object_position": null,
      "order": null,
      "overflow": null,
      "overflow_x": null,
      "overflow_y": null,
      "padding": null,
      "right": null,
      "top": null,
      "visibility": null,
      "width": null
     }
    },
    "af4fadc82bdc4dcb804427c1f7d721ab": {
     "model_module": "@jupyter-widgets/controls",
     "model_module_version": "1.5.0",
     "model_name": "FloatProgressModel",
     "state": {
      "_dom_classes": [],
      "_model_module": "@jupyter-widgets/controls",
      "_model_module_version": "1.5.0",
      "_model_name": "FloatProgressModel",
      "_view_count": null,
      "_view_module": "@jupyter-widgets/controls",
      "_view_module_version": "1.5.0",
      "_view_name": "ProgressView",
      "bar_style": "success",
      "description": "",
      "description_tooltip": null,
      "layout": "IPY_MODEL_3926badb1de349a0b57767738c89b27e",
      "max": 28,
      "min": 0,
      "orientation": "horizontal",
      "style": "IPY_MODEL_1381474ddd6b4e7bbb301134deec5fc8",
      "value": 28
     }
    },
    "b29bdc5fc745406794ac84b6614e6fdd": {
     "model_module": "@jupyter-widgets/controls",
     "model_module_version": "1.5.0",
     "model_name": "DescriptionStyleModel",
     "state": {
      "_model_module": "@jupyter-widgets/controls",
      "_model_module_version": "1.5.0",
      "_model_name": "DescriptionStyleModel",
      "_view_count": null,
      "_view_module": "@jupyter-widgets/base",
      "_view_module_version": "1.2.0",
      "_view_name": "StyleView",
      "description_width": ""
     }
    },
    "b99cb564a1dd487db01b6a5b022f543b": {
     "model_module": "@jupyter-widgets/controls",
     "model_module_version": "1.5.0",
     "model_name": "FloatProgressModel",
     "state": {
      "_dom_classes": [],
      "_model_module": "@jupyter-widgets/controls",
      "_model_module_version": "1.5.0",
      "_model_name": "FloatProgressModel",
      "_view_count": null,
      "_view_module": "@jupyter-widgets/controls",
      "_view_module_version": "1.5.0",
      "_view_name": "ProgressView",
      "bar_style": "success",
      "description": "",
      "description_tooltip": null,
      "layout": "IPY_MODEL_faa1c636bc25443895dd08dd25fad334",
      "max": 570,
      "min": 0,
      "orientation": "horizontal",
      "style": "IPY_MODEL_827c309799fa4a79afb1623e87a73d96",
      "value": 570
     }
    },
    "bb5f8a1a6f024fe6b5c97d3dcfa97ce2": {
     "model_module": "@jupyter-widgets/controls",
     "model_module_version": "1.5.0",
     "model_name": "HBoxModel",
     "state": {
      "_dom_classes": [],
      "_model_module": "@jupyter-widgets/controls",
      "_model_module_version": "1.5.0",
      "_model_name": "HBoxModel",
      "_view_count": null,
      "_view_module": "@jupyter-widgets/controls",
      "_view_module_version": "1.5.0",
      "_view_name": "HBoxView",
      "box_style": "",
      "children": [
       "IPY_MODEL_04989a16a2424b579198bde0a6c7bc2e",
       "IPY_MODEL_eca171f9cc9f413ea6d82690038fa1a0",
       "IPY_MODEL_dc02f0191cb84d7bb52c818b99b696b5"
      ],
      "layout": "IPY_MODEL_5eee71dfada94c1da2148701f4dc780a"
     }
    },
    "bf34fc6bfae44a6890066db9b30dc74a": {
     "model_module": "@jupyter-widgets/base",
     "model_module_version": "1.2.0",
     "model_name": "LayoutModel",
     "state": {
      "_model_module": "@jupyter-widgets/base",
      "_model_module_version": "1.2.0",
      "_model_name": "LayoutModel",
      "_view_count": null,
      "_view_module": "@jupyter-widgets/base",
      "_view_module_version": "1.2.0",
      "_view_name": "LayoutView",
      "align_content": null,
      "align_items": null,
      "align_self": null,
      "border": null,
      "bottom": null,
      "display": null,
      "flex": null,
      "flex_flow": null,
      "grid_area": null,
      "grid_auto_columns": null,
      "grid_auto_flow": null,
      "grid_auto_rows": null,
      "grid_column": null,
      "grid_gap": null,
      "grid_row": null,
      "grid_template_areas": null,
      "grid_template_columns": null,
      "grid_template_rows": null,
      "height": null,
      "justify_content": null,
      "justify_items": null,
      "left": null,
      "margin": null,
      "max_height": null,
      "max_width": null,
      "min_height": null,
      "min_width": null,
      "object_fit": null,
      "object_position": null,
      "order": null,
      "overflow": null,
      "overflow_x": null,
      "overflow_y": null,
      "padding": null,
      "right": null,
      "top": null,
      "visibility": null,
      "width": null
     }
    },
    "ca89066e4fbd42e1bc13fe77dcbbbbdd": {
     "model_module": "@jupyter-widgets/controls",
     "model_module_version": "1.5.0",
     "model_name": "DescriptionStyleModel",
     "state": {
      "_model_module": "@jupyter-widgets/controls",
      "_model_module_version": "1.5.0",
      "_model_name": "DescriptionStyleModel",
      "_view_count": null,
      "_view_module": "@jupyter-widgets/base",
      "_view_module_version": "1.2.0",
      "_view_name": "StyleView",
      "description_width": ""
     }
    },
    "dc02f0191cb84d7bb52c818b99b696b5": {
     "model_module": "@jupyter-widgets/controls",
     "model_module_version": "1.5.0",
     "model_name": "HTMLModel",
     "state": {
      "_dom_classes": [],
      "_model_module": "@jupyter-widgets/controls",
      "_model_module_version": "1.5.0",
      "_model_name": "HTMLModel",
      "_view_count": null,
      "_view_module": "@jupyter-widgets/controls",
      "_view_module_version": "1.5.0",
      "_view_name": "HTMLView",
      "description": "",
      "description_tooltip": null,
      "layout": "IPY_MODEL_41ba41f17dd64cc5b500bf9fa74f1674",
      "placeholder": "​",
      "style": "IPY_MODEL_ff283f6a2a9b4782bb9ebdcd9e2eb8ff",
      "value": " 420M/420M [00:10&lt;00:00, 43.6MB/s]"
     }
    },
    "df0f541e1ef64d5381c89cada08d1134": {
     "model_module": "@jupyter-widgets/base",
     "model_module_version": "1.2.0",
     "model_name": "LayoutModel",
     "state": {
      "_model_module": "@jupyter-widgets/base",
      "_model_module_version": "1.2.0",
      "_model_name": "LayoutModel",
      "_view_count": null,
      "_view_module": "@jupyter-widgets/base",
      "_view_module_version": "1.2.0",
      "_view_name": "LayoutView",
      "align_content": null,
      "align_items": null,
      "align_self": null,
      "border": null,
      "bottom": null,
      "display": null,
      "flex": null,
      "flex_flow": null,
      "grid_area": null,
      "grid_auto_columns": null,
      "grid_auto_flow": null,
      "grid_auto_rows": null,
      "grid_column": null,
      "grid_gap": null,
      "grid_row": null,
      "grid_template_areas": null,
      "grid_template_columns": null,
      "grid_template_rows": null,
      "height": null,
      "justify_content": null,
      "justify_items": null,
      "left": null,
      "margin": null,
      "max_height": null,
      "max_width": null,
      "min_height": null,
      "min_width": null,
      "object_fit": null,
      "object_position": null,
      "order": null,
      "overflow": null,
      "overflow_x": null,
      "overflow_y": null,
      "padding": null,
      "right": null,
      "top": null,
      "visibility": null,
      "width": null
     }
    },
    "e5cfe9b6699c48e7a65620038a1e7b19": {
     "model_module": "@jupyter-widgets/base",
     "model_module_version": "1.2.0",
     "model_name": "LayoutModel",
     "state": {
      "_model_module": "@jupyter-widgets/base",
      "_model_module_version": "1.2.0",
      "_model_name": "LayoutModel",
      "_view_count": null,
      "_view_module": "@jupyter-widgets/base",
      "_view_module_version": "1.2.0",
      "_view_name": "LayoutView",
      "align_content": null,
      "align_items": null,
      "align_self": null,
      "border": null,
      "bottom": null,
      "display": null,
      "flex": null,
      "flex_flow": null,
      "grid_area": null,
      "grid_auto_columns": null,
      "grid_auto_flow": null,
      "grid_auto_rows": null,
      "grid_column": null,
      "grid_gap": null,
      "grid_row": null,
      "grid_template_areas": null,
      "grid_template_columns": null,
      "grid_template_rows": null,
      "height": null,
      "justify_content": null,
      "justify_items": null,
      "left": null,
      "margin": null,
      "max_height": null,
      "max_width": null,
      "min_height": null,
      "min_width": null,
      "object_fit": null,
      "object_position": null,
      "order": null,
      "overflow": null,
      "overflow_x": null,
      "overflow_y": null,
      "padding": null,
      "right": null,
      "top": null,
      "visibility": null,
      "width": null
     }
    },
    "eca171f9cc9f413ea6d82690038fa1a0": {
     "model_module": "@jupyter-widgets/controls",
     "model_module_version": "1.5.0",
     "model_name": "FloatProgressModel",
     "state": {
      "_dom_classes": [],
      "_model_module": "@jupyter-widgets/controls",
      "_model_module_version": "1.5.0",
      "_model_name": "FloatProgressModel",
      "_view_count": null,
      "_view_module": "@jupyter-widgets/controls",
      "_view_module_version": "1.5.0",
      "_view_name": "ProgressView",
      "bar_style": "success",
      "description": "",
      "description_tooltip": null,
      "layout": "IPY_MODEL_a2d87a1d53a04089863ca579b8297784",
      "max": 440473133,
      "min": 0,
      "orientation": "horizontal",
      "style": "IPY_MODEL_82e1b425659f412e878cfb966dc62850",
      "value": 440473133
     }
    },
    "efc9116e42904aab976b88307793d23b": {
     "model_module": "@jupyter-widgets/controls",
     "model_module_version": "1.5.0",
     "model_name": "DescriptionStyleModel",
     "state": {
      "_model_module": "@jupyter-widgets/controls",
      "_model_module_version": "1.5.0",
      "_model_name": "DescriptionStyleModel",
      "_view_count": null,
      "_view_module": "@jupyter-widgets/base",
      "_view_module_version": "1.2.0",
      "_view_name": "StyleView",
      "description_width": ""
     }
    },
    "f1d6ff71e3344739a0cb3b4bf4563714": {
     "model_module": "@jupyter-widgets/controls",
     "model_module_version": "1.5.0",
     "model_name": "DescriptionStyleModel",
     "state": {
      "_model_module": "@jupyter-widgets/controls",
      "_model_module_version": "1.5.0",
      "_model_name": "DescriptionStyleModel",
      "_view_count": null,
      "_view_module": "@jupyter-widgets/base",
      "_view_module_version": "1.2.0",
      "_view_name": "StyleView",
      "description_width": ""
     }
    },
    "faa1c636bc25443895dd08dd25fad334": {
     "model_module": "@jupyter-widgets/base",
     "model_module_version": "1.2.0",
     "model_name": "LayoutModel",
     "state": {
      "_model_module": "@jupyter-widgets/base",
      "_model_module_version": "1.2.0",
      "_model_name": "LayoutModel",
      "_view_count": null,
      "_view_module": "@jupyter-widgets/base",
      "_view_module_version": "1.2.0",
      "_view_name": "LayoutView",
      "align_content": null,
      "align_items": null,
      "align_self": null,
      "border": null,
      "bottom": null,
      "display": null,
      "flex": null,
      "flex_flow": null,
      "grid_area": null,
      "grid_auto_columns": null,
      "grid_auto_flow": null,
      "grid_auto_rows": null,
      "grid_column": null,
      "grid_gap": null,
      "grid_row": null,
      "grid_template_areas": null,
      "grid_template_columns": null,
      "grid_template_rows": null,
      "height": null,
      "justify_content": null,
      "justify_items": null,
      "left": null,
      "margin": null,
      "max_height": null,
      "max_width": null,
      "min_height": null,
      "min_width": null,
      "object_fit": null,
      "object_position": null,
      "order": null,
      "overflow": null,
      "overflow_x": null,
      "overflow_y": null,
      "padding": null,
      "right": null,
      "top": null,
      "visibility": null,
      "width": null
     }
    },
    "fd0d7a4f73f140c9a51cd97b48f9b581": {
     "model_module": "@jupyter-widgets/base",
     "model_module_version": "1.2.0",
     "model_name": "LayoutModel",
     "state": {
      "_model_module": "@jupyter-widgets/base",
      "_model_module_version": "1.2.0",
      "_model_name": "LayoutModel",
      "_view_count": null,
      "_view_module": "@jupyter-widgets/base",
      "_view_module_version": "1.2.0",
      "_view_name": "LayoutView",
      "align_content": null,
      "align_items": null,
      "align_self": null,
      "border": null,
      "bottom": null,
      "display": null,
      "flex": null,
      "flex_flow": null,
      "grid_area": null,
      "grid_auto_columns": null,
      "grid_auto_flow": null,
      "grid_auto_rows": null,
      "grid_column": null,
      "grid_gap": null,
      "grid_row": null,
      "grid_template_areas": null,
      "grid_template_columns": null,
      "grid_template_rows": null,
      "height": null,
      "justify_content": null,
      "justify_items": null,
      "left": null,
      "margin": null,
      "max_height": null,
      "max_width": null,
      "min_height": null,
      "min_width": null,
      "object_fit": null,
      "object_position": null,
      "order": null,
      "overflow": null,
      "overflow_x": null,
      "overflow_y": null,
      "padding": null,
      "right": null,
      "top": null,
      "visibility": null,
      "width": null
     }
    },
    "ff283f6a2a9b4782bb9ebdcd9e2eb8ff": {
     "model_module": "@jupyter-widgets/controls",
     "model_module_version": "1.5.0",
     "model_name": "DescriptionStyleModel",
     "state": {
      "_model_module": "@jupyter-widgets/controls",
      "_model_module_version": "1.5.0",
      "_model_name": "DescriptionStyleModel",
      "_view_count": null,
      "_view_module": "@jupyter-widgets/base",
      "_view_module_version": "1.2.0",
      "_view_name": "StyleView",
      "description_width": ""
     }
    }
   }
  }
 },
 "nbformat": 4,
 "nbformat_minor": 5
}
