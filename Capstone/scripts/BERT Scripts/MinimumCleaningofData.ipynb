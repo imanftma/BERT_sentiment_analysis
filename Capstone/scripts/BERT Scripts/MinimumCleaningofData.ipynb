{
 "cells": [
  {
   "cell_type": "markdown",
   "id": "0b5223f4-693b-4f02-af48-a4a49070fa33",
   "metadata": {},
   "source": [
    "# Minimum Cleaning of tweets\n",
    "In this notebook, we are minimum cleaning the \n",
    "- externally annotated [tweets](https://arxiv.org/abs/2005.12423)\n",
    "- testing tweets (the tweets we scraped)\n",
    "\n",
    "to be used in the BERT model. As BERT is a contextual and bi-directional model, we will not be deep cleaning tweets in order for the model to pick up on punctuations and stopwords etc.\n",
    "\n",
    "Minimum cleaned is described as:\n",
    "- Keeping stop words\n",
    "- Not removing punctuation\n",
    "- No lemmatization/Stemming\n",
    "- Removing the '#' but keeping the word\n",
    "- Converting all letters to lowercase\n",
    "\n",
    "and removal of\n",
    "\n",
    "- URL's\n",
    "- user mentions(@), new line characters (\\n), \n",
    "- changing &amp to 'and'\n",
    "- more than 1 space\n",
    "- emojis\n",
    "- changing contractions like \"can't\" into \"can not\"\n"
   ]
  },
  {
   "cell_type": "markdown",
   "id": "dcf5cc81-8c49-4c4a-b078-29fb534e02bc",
   "metadata": {},
   "source": [
    "## 1. Importing libraries"
   ]
  },
  {
   "cell_type": "code",
   "execution_count": 239,
   "id": "b3bd95e0-5ecb-4817-a212-e8b23ea2847d",
   "metadata": {},
   "outputs": [
    {
     "data": {
      "text/plain": [
       "'c:\\\\Users\\\\Owner\\\\Desktop\\\\Sem4\\\\Capstone\\\\Project'"
      ]
     },
     "execution_count": 239,
     "metadata": {},
     "output_type": "execute_result"
    }
   ],
   "source": [
    "import numpy as np \n",
    "import pandas as pd \n",
    "import os\n",
    "import matplotlib.pyplot as plt\n",
    "import seaborn as sns\n",
    "import re\n",
    "import string\n",
    "import emoji\n",
    "import nltk\n",
    "from nltk.corpus import stopwords\n",
    "\n",
    "os.chdir('c:\\\\Users\\\\Owner\\\\Desktop\\\\Sem4\\\\Capstone\\\\Project\\\\')\n",
    "os.getcwd()"
   ]
  },
  {
   "cell_type": "code",
   "execution_count": 240,
   "id": "f144e57a-e07e-4d47-b1f1-d5735abaca8c",
   "metadata": {},
   "outputs": [
    {
     "name": "stdout",
     "output_type": "stream",
     "text": [
      "<class 'pandas.core.frame.DataFrame'>\n",
      "RangeIndex: 505106 entries, 0 to 505105\n",
      "Data columns (total 7 columns):\n",
      " #   Column        Non-Null Count   Dtype \n",
      "---  ------        --------------   ----- \n",
      " 0   Datetime      505106 non-null  object\n",
      " 1   Tweet Id      505106 non-null  int64 \n",
      " 2   Text          505106 non-null  object\n",
      " 3   Location      385264 non-null  object\n",
      " 4   Retweet       505106 non-null  int64 \n",
      " 5   Like          505106 non-null  int64 \n",
      " 6   new_Hashtags  505014 non-null  object\n",
      "dtypes: int64(3), object(4)\n",
      "memory usage: 27.0+ MB\n"
     ]
    }
   ],
   "source": [
    "ann_tweets = pd.read_csv('data/after_eda.csv')\n",
    "ann_tweets.info()"
   ]
  },
  {
   "cell_type": "code",
   "execution_count": 241,
   "id": "616402be-a46b-435b-8a81-a4a90b585c5a",
   "metadata": {},
   "outputs": [],
   "source": [
    "#ann_tweets.columns=['Tweet ID','label','Text']"
   ]
  },
  {
   "cell_type": "code",
   "execution_count": 242,
   "id": "833efd21-c51a-4048-ad61-fb4b177d2954",
   "metadata": {},
   "outputs": [
    {
     "data": {
      "text/plain": [
       "0         @elonmusk i think twitter bird is now free. Bu...\n",
       "1         @joydeepg9 @Deekay01119442 @TNSubbaRao1 There ...\n",
       "2         @nytimes Once again the entitled NYT wants to ...\n",
       "3         #NoWonder #China's #WhiteTerror or #BlueTerror...\n",
       "4         Hey, what a surprise, 1 year later and nada! #...\n",
       "                                ...                        \n",
       "505101    Father returns from overseas wedding after son...\n",
       "505102    Future unclear for White House Commission on #...\n",
       "505103    Happy New year to my fav #Aapi on #Twitter @Ar...\n",
       "505104    NY Times called out for misstep in Asian cultu...\n",
       "505105    How an #Asian American woman fought for her ci...\n",
       "Name: Text, Length: 505106, dtype: object"
      ]
     },
     "execution_count": 242,
     "metadata": {},
     "output_type": "execute_result"
    }
   ],
   "source": [
    "ann_tweets.Text"
   ]
  },
  {
   "cell_type": "code",
   "execution_count": 243,
   "id": "68549101-e912-463e-bda8-8577a1450bcd",
   "metadata": {},
   "outputs": [],
   "source": [
    "#cat= { 2: 'negative', 1: 'positive',0:'neutral'}\n",
    "#ann_tweets['Category']=ann_tweets['label'].map(cat)\n"
   ]
  },
  {
   "cell_type": "code",
   "execution_count": 244,
   "id": "0e41a15c-fee9-44f6-89fd-e0b009b29277",
   "metadata": {},
   "outputs": [],
   "source": [
    "#ax = sns.countplot(x=\"label\", data=ann_tweets)\n",
    "\n",
    "#plt.show()"
   ]
  },
  {
   "cell_type": "markdown",
   "id": "7d75dfaa-b63a-4329-9442-c58dae497976",
   "metadata": {},
   "source": [
    "## 2. Removing URLS"
   ]
  },
  {
   "cell_type": "code",
   "execution_count": 245,
   "id": "44480e5b-4cee-4e7b-ac8e-b0021b056377",
   "metadata": {},
   "outputs": [],
   "source": [
    "def remove_URL(text):\n",
    "    url = re.compile(r'https?://\\S+|www\\.\\S+')\n",
    "    return url.sub(r'',text)\n"
   ]
  },
  {
   "cell_type": "code",
   "execution_count": 246,
   "id": "4cca5b50-6c8b-4475-9d9d-db2cf7489b1e",
   "metadata": {},
   "outputs": [],
   "source": [
    "ann_tweets['Text']=ann_tweets['Text'].apply(lambda x : remove_URL(x))"
   ]
  },
  {
   "cell_type": "code",
   "execution_count": 247,
   "id": "494256b3-52f1-4aa2-9fc7-e133f980ecfd",
   "metadata": {},
   "outputs": [
    {
     "data": {
      "text/plain": [
       "\"@ChinaSpox_India @UnderSecStateJ #Tibet is never part of #China, that's why \\n#CCP deeply fear of Tibetan cause &amp; changing our place &amp; call them #Xizang, as China spreading #ChineseVirus &amp; Tibetan spreading messages of LOVE &amp; compassion, thats why millions are supporting #FreeTibet\\n #UN #US\""
      ]
     },
     "execution_count": 247,
     "metadata": {},
     "output_type": "execute_result"
    }
   ],
   "source": [
    "ann_tweets['Text'][34]"
   ]
  },
  {
   "cell_type": "markdown",
   "id": "08398171-975c-46d4-a8ef-823d7abf7130",
   "metadata": {},
   "source": [
    "## 3. Removing usermentions, newline character(\\n) and &amp"
   ]
  },
  {
   "cell_type": "code",
   "execution_count": 248,
   "id": "ffbd4506-ca39-47df-96b9-bea9eb6d7659",
   "metadata": {},
   "outputs": [],
   "source": [
    "def remove_user_hashtags(text):\n",
    "    url = re.compile(r'@\\w+')\n",
    "    return url.sub(r'',text)\n",
    "\n",
    "def remove_amp(text):\n",
    "    return text.replace(r'&amp', 'and')\n",
    "\n",
    "def remove_n(text):\n",
    "    return text.replace('\\n', '')"
   ]
  },
  {
   "cell_type": "code",
   "execution_count": 249,
   "id": "fb21457f-0b6b-4e8a-928d-c0c730ae4d18",
   "metadata": {},
   "outputs": [],
   "source": [
    "ann_tweets['Text']=ann_tweets['Text'].apply(lambda x : remove_user_hashtags(x))\n",
    "ann_tweets['Text']=ann_tweets['Text'].apply(lambda x : remove_n(x))\n",
    "ann_tweets['Text']=ann_tweets['Text'].apply(lambda x : remove_amp(x))"
   ]
  },
  {
   "cell_type": "code",
   "execution_count": 250,
   "id": "6ba30b00-5527-44c9-808e-f5ced5cfc116",
   "metadata": {},
   "outputs": [
    {
     "data": {
      "text/plain": [
       "\"  #Tibet is never part of #China, that's why #CCP deeply fear of Tibetan cause and; changing our place and; call them #Xizang, as China spreading #ChineseVirus and; Tibetan spreading messages of LOVE and; compassion, thats why millions are supporting #FreeTibet #UN #US\""
      ]
     },
     "execution_count": 250,
     "metadata": {},
     "output_type": "execute_result"
    }
   ],
   "source": [
    "ann_tweets['Text'][34]"
   ]
  },
  {
   "cell_type": "markdown",
   "id": "28d5c8ba-dcf4-4ad4-a020-b5a953c393b1",
   "metadata": {},
   "source": [
    "## 4. Converting contractions can't -> can not"
   ]
  },
  {
   "cell_type": "code",
   "execution_count": 251,
   "id": "d6edda7f-25d6-4112-ac9f-e2b8850b7766",
   "metadata": {},
   "outputs": [],
   "source": [
    "def decontracted(phrase):\n",
    "\n",
    "    # specific\n",
    "    phrase = re.sub(r\"won\\'t\", \"will not\", phrase)\n",
    "    phrase = re.sub(r\"can\\'t\", \"can not\", phrase)\n",
    "\n",
    "    # general\n",
    "    #phrase = re.sub(r\"n't\", \" not\", phrase) # resulted in \"ca not\" when sentence started with \"can't\"\n",
    "    phrase = re.sub(r\"\\'re\", \" are\", phrase)\n",
    "    phrase = re.sub(r\"\\'s\", \" is\", phrase)\n",
    "    phrase = re.sub(r\"\\'d\", \" would\", phrase)\n",
    "    phrase = re.sub(r\"\\'ll\", \" will\", phrase)\n",
    "    phrase = re.sub(r\"n\\'t\", \" not\", phrase)\n",
    "    phrase = re.sub(r\"\\'ve\", \" have\", phrase)\n",
    "    phrase = re.sub(r\"\\'m\", \" am\", phrase)\n",
    "    phrase = re.sub(r\"won\\'t\", \"will not\", phrase)\n",
    "    phrase = re.sub(r\"can\\'t\", \"can not\", phrase)\n",
    "\n",
    "    # general\n",
    "    phrase = re.sub(r\"won\\’t\", \"will not\", phrase)\n",
    "    phrase = re.sub(r\"can\\’t\", \"can not\", phrase)\n",
    "    #phrase = re.sub(r\"n't\", \" not\", phrase) # resulted in \"ca not\" when sentence started with \"can't\"\n",
    "    phrase = re.sub(r\"\\’re\", \" are\", phrase)\n",
    "    phrase = re.sub(r\"\\’s\", \" is\", phrase)\n",
    "    phrase = re.sub(r\"\\’d\", \" would\", phrase)\n",
    "    phrase = re.sub(r\"\\’ll\", \" will\", phrase)\n",
    "    phrase = re.sub(r\"n\\’t\", \" not\", phrase)\n",
    "    phrase = re.sub(r\"\\’ve\", \" have\", phrase)\n",
    "    phrase = re.sub(r\"\\’m\", \" am\", phrase)\n",
    "    return phrase"
   ]
  },
  {
   "cell_type": "code",
   "execution_count": 252,
   "id": "def0b030-c2db-4957-be85-e1781663a27c",
   "metadata": {},
   "outputs": [],
   "source": [
    "ann_tweets['Text']=ann_tweets['Text'].apply(lambda x : decontracted(x))"
   ]
  },
  {
   "cell_type": "code",
   "execution_count": 253,
   "id": "594eed8a-3f34-481b-af0a-bc7101e19921",
   "metadata": {},
   "outputs": [
    {
     "data": {
      "text/plain": [
       "'  #Tibet is never part of #China, that is why #CCP deeply fear of Tibetan cause and; changing our place and; call them #Xizang, as China spreading #ChineseVirus and; Tibetan spreading messages of LOVE and; compassion, thats why millions are supporting #FreeTibet #UN #US'"
      ]
     },
     "execution_count": 253,
     "metadata": {},
     "output_type": "execute_result"
    }
   ],
   "source": [
    "ann_tweets['Text'][34]"
   ]
  },
  {
   "cell_type": "markdown",
   "id": "75fd70a0-27cb-4138-b12f-e3e83d153e9b",
   "metadata": {},
   "source": [
    "## 5. Removing more than 1 spacee"
   ]
  },
  {
   "cell_type": "code",
   "execution_count": 254,
   "id": "48f1b78f-b3a0-498d-b987-4cea09e39c30",
   "metadata": {},
   "outputs": [],
   "source": [
    "def clean(text):\n",
    "    text = re.sub('\\s{2,}', ' ', text)\n",
    "    return text"
   ]
  },
  {
   "cell_type": "code",
   "execution_count": 255,
   "id": "4bd8fb43-3a40-40aa-bc9a-af55752ee58f",
   "metadata": {},
   "outputs": [],
   "source": [
    "ann_tweets['Text']=ann_tweets['Text'].apply(lambda x : clean(x))"
   ]
  },
  {
   "cell_type": "code",
   "execution_count": 256,
   "id": "4472e655-9d2c-457c-8e4f-4c209246ca1b",
   "metadata": {},
   "outputs": [
    {
     "data": {
      "text/plain": [
       "' #Tibet is never part of #China, that is why #CCP deeply fear of Tibetan cause and; changing our place and; call them #Xizang, as China spreading #ChineseVirus and; Tibetan spreading messages of LOVE and; compassion, thats why millions are supporting #FreeTibet #UN #US'"
      ]
     },
     "execution_count": 256,
     "metadata": {},
     "output_type": "execute_result"
    }
   ],
   "source": [
    "ann_tweets['Text'][34]"
   ]
  },
  {
   "cell_type": "markdown",
   "id": "e7e466f7-22a7-4b5f-8abf-aec40f761139",
   "metadata": {
    "tags": []
   },
   "source": [
    "## 6. Removing emojis"
   ]
  },
  {
   "cell_type": "code",
   "execution_count": 257,
   "id": "db1fd9bf-cf2a-444c-91ba-338232af08ac",
   "metadata": {},
   "outputs": [],
   "source": [
    "def strip_emoji(text):\n",
    "    return re.sub(emoji.get_emoji_regexp(), r\"\", text)"
   ]
  },
  {
   "cell_type": "code",
   "execution_count": 258,
   "id": "5f5a6641-9fe6-4399-85cd-9d2da19f7332",
   "metadata": {},
   "outputs": [
    {
     "name": "stderr",
     "output_type": "stream",
     "text": [
      "C:\\Users\\Owner\\AppData\\Local\\Temp/ipykernel_7056/2482492037.py:2: DeprecationWarning: 'emoji.get_emoji_regexp()' is deprecated and will be removed in version 2.0.0. If you want to remove emoji from a string, consider the method emoji.replace_emoji(str, replace='').\n",
      "To hide this warning, pin/downgrade the package to 'emoji~=1.6.3'\n",
      "  return re.sub(emoji.get_emoji_regexp(), r\"\", text)\n"
     ]
    }
   ],
   "source": [
    "ann_tweets['Text']=ann_tweets['Text'].apply(lambda x : strip_emoji(x))"
   ]
  },
  {
   "cell_type": "code",
   "execution_count": 259,
   "id": "72b4db88-0a4c-40d1-8317-e7954b89c54a",
   "metadata": {},
   "outputs": [
    {
     "data": {
      "text/plain": [
       "' #Tibet is never part of #China, that is why #CCP deeply fear of Tibetan cause and; changing our place and; call them #Xizang, as China spreading #ChineseVirus and; Tibetan spreading messages of LOVE and; compassion, thats why millions are supporting #FreeTibet #UN #US'"
      ]
     },
     "execution_count": 259,
     "metadata": {},
     "output_type": "execute_result"
    }
   ],
   "source": [
    "ann_tweets['Text'][34]"
   ]
  },
  {
   "cell_type": "markdown",
   "id": "19fce57c-796f-4683-9686-7804bafb42a4",
   "metadata": {},
   "source": [
    "## 7. Removing hash (#) symbol"
   ]
  },
  {
   "cell_type": "code",
   "execution_count": 260,
   "id": "e9bb9be1-80a3-4ac7-9ce3-7366e897da75",
   "metadata": {},
   "outputs": [],
   "source": [
    "def clean_hashtags(tweet):\n",
    "    clean = re.compile(r'[#]')\n",
    "    return clean.sub(r'',tweet)"
   ]
  },
  {
   "cell_type": "code",
   "execution_count": 261,
   "id": "9aa75150-dd2d-453a-91f5-59fe05f3a80f",
   "metadata": {},
   "outputs": [],
   "source": [
    "ann_tweets['Text']=ann_tweets['Text'].apply(lambda x : clean_hashtags(x))"
   ]
  },
  {
   "cell_type": "code",
   "execution_count": 262,
   "id": "5c612ffc-d17a-42b1-b869-119b0c8a15f1",
   "metadata": {},
   "outputs": [
    {
     "data": {
      "text/plain": [
       "' Tibet is never part of China, that is why CCP deeply fear of Tibetan cause and; changing our place and; call them Xizang, as China spreading ChineseVirus and; Tibetan spreading messages of LOVE and; compassion, thats why millions are supporting FreeTibet UN US'"
      ]
     },
     "execution_count": 262,
     "metadata": {},
     "output_type": "execute_result"
    }
   ],
   "source": [
    "ann_tweets['Text'][34]"
   ]
  },
  {
   "cell_type": "markdown",
   "id": "cda0a071-13b5-4fb1-b901-b39e66ab122f",
   "metadata": {},
   "source": [
    "## 8. Converting to lowercase"
   ]
  },
  {
   "cell_type": "code",
   "execution_count": 263,
   "id": "0f259b3a-10c7-43c9-a23c-d52834905e55",
   "metadata": {},
   "outputs": [],
   "source": [
    "ann_tweets['Text']=ann_tweets['Text'].apply(lambda x : x.lower())"
   ]
  },
  {
   "cell_type": "code",
   "execution_count": 264,
   "id": "a1a6d150-5508-46ca-a34d-feb5880fe868",
   "metadata": {},
   "outputs": [
    {
     "data": {
      "text/plain": [
       "' tibet is never part of china, that is why ccp deeply fear of tibetan cause and; changing our place and; call them xizang, as china spreading chinesevirus and; tibetan spreading messages of love and; compassion, thats why millions are supporting freetibet un us'"
      ]
     },
     "execution_count": 264,
     "metadata": {},
     "output_type": "execute_result"
    }
   ],
   "source": [
    "ann_tweets['Text'][34]"
   ]
  },
  {
   "cell_type": "markdown",
   "id": "fc630229-248e-4466-b0b8-ec152d9706e4",
   "metadata": {},
   "source": [
    "## 9. Saving to .csv"
   ]
  },
  {
   "cell_type": "code",
   "execution_count": 265,
   "id": "9108be57-d7fb-4439-810b-637032bebaf8",
   "metadata": {},
   "outputs": [],
   "source": [
    "#ann_tweets.to_csv('data//minimum_cleaned_tweets_test.csv', index=False)"
   ]
  },
  {
   "cell_type": "markdown",
   "id": "d7d1e9c7-96b8-4d5c-885c-b65bcf840a40",
   "metadata": {
    "tags": []
   },
   "source": [
    "## 10. Word Cloud"
   ]
  },
  {
   "cell_type": "code",
   "execution_count": null,
   "id": "d8925cbf-20e2-4576-bed5-12f35449a7d5",
   "metadata": {},
   "outputs": [],
   "source": [
    "from wordcloud import WordCloud, STOPWORDS\n",
    "comment_words = ''\n",
    "stopwords = set(STOPWORDS)\n",
    "\n",
    "for val in ann_tweets.Text:\n",
    "    # typecaste each val to string\n",
    "    val = str(val)\n",
    " \n",
    "    # split the value\n",
    "    tokens = val.split()\n",
    "     \n",
    "    # Converts each token into lowercase\n",
    "    for i in range(len(tokens)):\n",
    "        tokens[i] = tokens[i].lower()\n",
    "     \n",
    "    comment_words += \" \".join(tokens)+\" \"\n",
    "    \n",
    "wordcloud = WordCloud(width = 800, height = 800,\n",
    "                background_color ='white',\n",
    "                stopwords = stopwords,\n",
    "                min_font_size = 10).generate(comment_words)\n",
    " \n",
    "plt.figure(figsize = (8, 8), facecolor = None)\n",
    "plt.imshow(wordcloud)\n",
    "plt.axis(\"off\")\n",
    "plt.tight_layout(pad = 0)\n",
    " \n",
    "plt.show()"
   ]
  },
  {
   "cell_type": "markdown",
   "id": "5e378f6d-bc8c-4ae8-8670-86539e6b2f35",
   "metadata": {},
   "source": [
    "## 10. Tweet Length"
   ]
  },
  {
   "cell_type": "code",
   "execution_count": 30,
   "id": "5ed8a62a-12f9-4a32-9166-85488fecb778",
   "metadata": {},
   "outputs": [
    {
     "data": {
      "image/png": "[encoded data removed]",
      "text/plain": [
       "<Figure size 720x360 with 1 Axes>"
      ]
     },
     "metadata": {
      "needs_background": "light"
     },
     "output_type": "display_data"
    }
   ],
   "source": [
    "plt.figure(figsize=(10, 5))\n",
    "sns.histplot([len(s) for s in ann_tweets.Text], bins=100)\n",
    "plt.title('Tweet Length')\n",
    "plt.show()"
   ]
  },
  {
   "cell_type": "code",
   "execution_count": 31,
   "id": "100da477-43d8-4204-bdf0-f897c428eeec",
   "metadata": {},
   "outputs": [
    {
     "name": "stdout",
     "output_type": "stream",
     "text": [
      "Max length:  288\n"
     ]
    }
   ],
   "source": [
    "max_len = max([len(sent) for sent in ann_tweets.Text])\n",
    "print('Max length: ', max_len)"
   ]
  },
  {
   "cell_type": "code",
   "execution_count": null,
   "id": "147997ed-c0d4-415e-a143-8fed3cca072d",
   "metadata": {},
   "outputs": [],
   "source": []
  }
 ],
 "metadata": {
  "kernelspec": {
   "display_name": "Python 3 (ipykernel)",
   "language": "python",
   "name": "python3"
  },
  "language_info": {
   "codemirror_mode": {
    "name": "ipython",
    "version": 3
   },
   "file_extension": ".py",
   "mimetype": "text/x-python",
   "name": "python",
   "nbconvert_exporter": "python",
   "pygments_lexer": "ipython3",
   "version": "3.8.12"
  }
 },
 "nbformat": 4,
 "nbformat_minor": 5
}
