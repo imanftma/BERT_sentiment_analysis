{
 "cells": [
  {
   "cell_type": "code",
   "execution_count": 9,
   "metadata": {},
   "outputs": [],
   "source": [
    "import pandas as pd\n",
    "test_data = pd.read_csv('/Users/nikhiljoshi/Downloads/minimum_cleaned_tweets_test (1) (1).csv')\n",
    "\n"
   ]
  },
  {
   "cell_type": "code",
   "execution_count": 16,
   "metadata": {},
   "outputs": [],
   "source": [
    "import pandas as pd\n",
    "\n",
    "in_csv = '/Users/nikhiljoshi/Downloads/minimum_cleaned_tweets_test (1) (1).csv'\n",
    "number_lines = 505100\n",
    "rowsize = 126275\n",
    "\n",
    "for i in range(1,number_lines,rowsize):\n",
    "\n",
    "    df = pd.read_csv(in_csv,\n",
    "\n",
    "          header=None,\n",
    "\n",
    "          nrows = rowsize,#number of rows to read at each loop\n",
    "\n",
    "          skiprows = i)#skip rows that have been rea\n",
    "\n",
    "    out_csv = 'input' + str(i) + '.csv'\n",
    "    df.to_csv(out_csv,\n",
    "\n",
    "          index=False,\n",
    "\n",
    "          header=False,\n",
    "\n",
    "          mode='a',#append data to csv file\n",
    "\n",
    "          chunksize=rowsize)#size of data to append for each loop\n"
   ]
  }
 ],
 "metadata": {
  "interpreter": {
   "hash": "b150984740fdf7a72966a4799adcabc4c74de8e98c33bd097cc544a8aaf6dd26"
  },
  "kernelspec": {
   "display_name": "Python 3.8.12 ('mlp')",
   "language": "python",
   "name": "python3"
  },
  "language_info": {
   "codemirror_mode": {
    "name": "ipython",
    "version": 3
   },
   "file_extension": ".py",
   "mimetype": "text/x-python",
   "name": "python",
   "nbconvert_exporter": "python",
   "pygments_lexer": "ipython3",
   "version": "3.8.12"
  },
  "orig_nbformat": 4
 },
 "nbformat": 4,
 "nbformat_minor": 2
}
